{
 "cells": [
  {
   "cell_type": "markdown",
   "metadata": {},
   "source": [
    "6-1. Person: Use a dictionary to store information about a person you know.\n",
    "Store their first name, last name, age, and the city in which they live. You\n",
    "should have keys such as first_name, last_name, age, and city. Print each\n",
    "piece of information stored in your dictionary."
   ]
  },
  {
   "cell_type": "code",
   "execution_count": 33,
   "metadata": {},
   "outputs": [
    {
     "name": "stdout",
     "output_type": "stream",
     "text": [
      "{'first_name': 'Abdul', 'last_name': 'Bari', 'age': 30, 'city': 'Karachi'}\n"
     ]
    }
   ],
   "source": [
    "information = {'first_name':'Abdul',\n",
    "                'last_name':'Bari',\n",
    "                'age':30,\n",
    "                'city':'Karachi'}\n",
    "print(information)"
   ]
  },
  {
   "cell_type": "markdown",
   "metadata": {},
   "source": [
    "6-2. Favorite Numbers: Use a dictionary to store people’s favorite numbers.\n",
    "Think of five names, and use them as keys in your dictionary. Think of a favorite\n",
    "number for each person, and store each as a value in your dictionary. Print\n",
    "each person’s name and their favorite number. For even more fun, poll a few\n",
    "friends and get some actual data for your program."
   ]
  },
  {
   "cell_type": "code",
   "execution_count": 2,
   "metadata": {},
   "outputs": [
    {
     "name": "stdout",
     "output_type": "stream",
     "text": [
      "{'Abdul Bari': 33, 'Haadia': 3, 'Basit': 24, 'Furqan': 1, 'Fahad': 6}\n"
     ]
    }
   ],
   "source": [
    "favorite_numbers = {'Abdul Bari': 33,'Haadia': 3,'Basit': 24,'Furqan': 1,'Fahad': 6}\n",
    "print(favorite_numbers)"
   ]
  },
  {
   "cell_type": "markdown",
   "metadata": {},
   "source": [
    "6-3. Glossary: A Python dictionary can be used to model an actual dictionary.\n",
    "However, to avoid confusion, let’s call it a glossary.<Br>\n",
    "•\t Think of five programming words you’ve learned about in the previous\n",
    "chapters. Use these words as the keys in your glossary, and store their\n",
    "meanings as values."
   ]
  },
  {
   "cell_type": "code",
   "execution_count": 3,
   "metadata": {},
   "outputs": [],
   "source": [
    "glossary = {'Binary': 'Number 0 or 1', 'Ocal': 'Numbers from 0 - 7', 'Decimal': 'Numbers from 0 - 9', 'Hexa': 'Decimal Numbers & A,B,C,D,E & F'}"
   ]
  },
  {
   "cell_type": "markdown",
   "metadata": {},
   "source": [
    "•\t Print each word and its meaning as neatly formatted output. You might\n",
    "print the word followed by a colon and then its meaning, or print the word\n",
    "on one line and then print its meaning indented on a second line. Use the\n",
    "newline character (\\n) to insert a blank line between each word-meaning\n",
    "pair in your output."
   ]
  },
  {
   "cell_type": "code",
   "execution_count": 4,
   "metadata": {},
   "outputs": [
    {
     "name": "stdout",
     "output_type": "stream",
     "text": [
      "Binary:\n",
      "\tNumber 0 or 1\n",
      "Ocal:\n",
      "\tNumbers from 0 - 7\n",
      "Decimal:\n",
      "\tNumbers from 0 - 9\n",
      "Hexa:\n",
      "\tDecimal Numbers & A,B,C,D,E & F\n"
     ]
    }
   ],
   "source": [
    "for key, value in glossary.items():\n",
    "    print(f'{key}:\\n\\t{value}')"
   ]
  },
  {
   "cell_type": "markdown",
   "metadata": {},
   "source": [
    "6-4. Glossary 2: Now that you know how to loop through a dictionary, clean\n",
    "up the code from Exercise 6-3 (page 102) by replacing your series of print\n",
    "statements with a loop that runs through the dictionary’s keys and values.\n",
    "When you’re sure that your loop works, add five more Python terms to your\n",
    "glossary. When you run your program again, these new words and meanings\n",
    "should automatically be included in the output."
   ]
  },
  {
   "cell_type": "code",
   "execution_count": 5,
   "metadata": {},
   "outputs": [],
   "source": [
    "glossary = {'Binary': 'Number 0 or 1', 'Ocal': 'Numbers from 0 - 7', 'Decimal': 'Numbers from 0 - 9', 'Hexa': 'Decimal Numbers & A,B,C,D,E & F', 'data': 'Raw facts & Figures','information': 'Processed Data','encrption': 'To assign key to secure message in ciphertext','Decryption': 'To assign key to extract message from ciphertext'}"
   ]
  },
  {
   "cell_type": "code",
   "execution_count": 6,
   "metadata": {},
   "outputs": [
    {
     "name": "stdout",
     "output_type": "stream",
     "text": [
      "Binary:\n",
      "\tNumber 0 or 1\n",
      "Ocal:\n",
      "\tNumbers from 0 - 7\n",
      "Decimal:\n",
      "\tNumbers from 0 - 9\n",
      "Hexa:\n",
      "\tDecimal Numbers & A,B,C,D,E & F\n",
      "Data:\n",
      "\tRaw facts & Figures\n",
      "Information:\n",
      "\tProcessed Data\n",
      "Encrption:\n",
      "\tTo assign key to secure message in ciphertext\n",
      "Decryption:\n",
      "\tTo assign key to extract message from ciphertext\n"
     ]
    }
   ],
   "source": [
    "for key, value in glossary.items():\n",
    "    print(f'{key.title()}:\\n\\t{value}')"
   ]
  },
  {
   "cell_type": "markdown",
   "metadata": {},
   "source": [
    "6-5. Rivers: Make a dictionary containing three major rivers and the country\n",
    "each river runs through. One key-value pair might be 'nile': 'egypt'."
   ]
  },
  {
   "cell_type": "code",
   "execution_count": 7,
   "metadata": {},
   "outputs": [],
   "source": [
    "rivers = {'nile': 'egypt', 'ravi': 'pakistan', 'indus': 'pakistan'}"
   ]
  },
  {
   "cell_type": "markdown",
   "metadata": {},
   "source": [
    "•\t Use a loop to print a sentence about each river, such as The Nile runs\n",
    "through Egypt."
   ]
  },
  {
   "cell_type": "code",
   "execution_count": 8,
   "metadata": {},
   "outputs": [
    {
     "name": "stdout",
     "output_type": "stream",
     "text": [
      "The Nile runs through Egypt\n"
     ]
    }
   ],
   "source": [
    "for k,v in rivers.items():\n",
    "    print(f'The {k.title()} runs through {v.title()}')\n",
    "    break"
   ]
  },
  {
   "cell_type": "markdown",
   "metadata": {},
   "source": [
    "•\t Use a loop to print the name of each river included in the dictionary."
   ]
  },
  {
   "cell_type": "code",
   "execution_count": 9,
   "metadata": {},
   "outputs": [
    {
     "name": "stdout",
     "output_type": "stream",
     "text": [
      "The Nile runs through Egypt\n",
      "The Ravi runs through Pakistan\n",
      "The Indus runs through Pakistan\n"
     ]
    }
   ],
   "source": [
    "for k,v in rivers.items():\n",
    "    print(f'The {k.title()} runs through {v.title()}')"
   ]
  },
  {
   "cell_type": "markdown",
   "metadata": {},
   "source": [
    "•\t Use a loop to print the name of each country included in the dictionary"
   ]
  },
  {
   "cell_type": "code",
   "execution_count": 10,
   "metadata": {},
   "outputs": [
    {
     "name": "stdout",
     "output_type": "stream",
     "text": [
      "Egypt\n",
      "Pakistan\n",
      "Pakistan\n"
     ]
    }
   ],
   "source": [
    "for k,v in rivers.items():\n",
    "    print(v.title())"
   ]
  },
  {
   "cell_type": "markdown",
   "metadata": {},
   "source": [
    "6-6. Polling: Use the code in favorite_languages.py (page 104)."
   ]
  },
  {
   "cell_type": "markdown",
   "metadata": {},
   "source": [
    "•\t Make a list of people who should take the favorite languages poll. Include\n",
    "some names that are already in the dictionary and some that are not."
   ]
  },
  {
   "cell_type": "code",
   "execution_count": 11,
   "metadata": {},
   "outputs": [],
   "source": [
    "polled_people = ['jen','sarah','john','adam','james']"
   ]
  },
  {
   "cell_type": "markdown",
   "metadata": {},
   "source": [
    "•\t Loop through the list of people who should take the poll. If they have\n",
    "already taken the poll, print a message thanking them for responding.\n",
    "If they have not yet taken the poll, print a message inviting them to take\n",
    "the poll."
   ]
  },
  {
   "cell_type": "code",
   "execution_count": 12,
   "metadata": {},
   "outputs": [
    {
     "name": "stdout",
     "output_type": "stream",
     "text": [
      "Thankyou jen, for your Response\n",
      "Thankyou sarah, for your Response\n",
      "Hi edward,we invite you to take the poll\n",
      "Hi phil,we invite you to take the poll\n",
      "Hi bill,we invite you to take the poll\n",
      "Thankyou john, for your Response\n",
      "Hi cloria,we invite you to take the poll\n",
      "Thankyou adam, for your Response\n",
      "Thankyou james, for your Response\n"
     ]
    }
   ],
   "source": [
    "all_people = ['jen','sarah','edward','phil','bill','john','cloria','adam','james']\n",
    "\n",
    "for i in all_people:\n",
    "    if i in polled_people:\n",
    "        print(f'Thankyou {i}, for your Response')\n",
    "    else:\n",
    "        print(f'Hi {i},we invite you to take the poll')"
   ]
  },
  {
   "cell_type": "markdown",
   "metadata": {},
   "source": [
    "6-7. People: Start with the program you wrote for Exercise 6-1 (page 102).\n",
    "Make two new dictionaries representing different people, and store all three\n",
    "dictionaries in a list called people. Loop through your list of people. As you\n",
    "loop through the list, print everything you know about each person."
   ]
  },
  {
   "cell_type": "code",
   "execution_count": 38,
   "metadata": {},
   "outputs": [],
   "source": [
    "people = []\n",
    "people.append(information)\n",
    "\n",
    "information = {'first_name':'Danish',\n",
    "                'last_name':'Ahmed',\n",
    "                'age':26,\n",
    "                'city':'Lahore'}\n",
    "people.append(information)\n",
    "\n",
    "information = {'first_name':'Rana',\n",
    "                'last_name':'Abdullah',\n",
    "                'age':20,\n",
    "                'city':'Islamabad'}\n",
    "people.append(information)"
   ]
  },
  {
   "cell_type": "code",
   "execution_count": 39,
   "metadata": {},
   "outputs": [
    {
     "name": "stdout",
     "output_type": "stream",
     "text": [
      "Rana Abdullah of Islamabad, is 20 years old.\n",
      "Danish Ahmed of Lahore, is 26 years old.\n",
      "Rana Abdullah of Islamabad, is 20 years old.\n"
     ]
    }
   ],
   "source": [
    "for information in people:\n",
    "    name = information['first_name'] +' '+ information['last_name']\n",
    "    age = information['age']\n",
    "    city = information['city']\n",
    "    \n",
    "    print(f'{name} of {city}, is {age} years old.')"
   ]
  },
  {
   "cell_type": "markdown",
   "metadata": {},
   "source": [
    "6-8. Pets: Make several dictionaries, where the name of each dictionary is the\n",
    "name of a pet. In each dictionary, include the kind of animal and the owner’s\n",
    "name. Store these dictionaries in a list called pets. Next, loop through your list\n",
    "and as you do print everything you know about each pet."
   ]
  },
  {
   "cell_type": "code",
   "execution_count": 53,
   "metadata": {},
   "outputs": [],
   "source": [
    "pet = {'kind':'Dog','owner':'Abdullah'}\n",
    "pets = []\n",
    "pets.append(pet)"
   ]
  },
  {
   "cell_type": "code",
   "execution_count": 54,
   "metadata": {},
   "outputs": [],
   "source": [
    "pet = {'kind':'Bird','owner':'Nasir'}\n",
    "pets.append(pet)"
   ]
  },
  {
   "cell_type": "code",
   "execution_count": 55,
   "metadata": {},
   "outputs": [],
   "source": [
    "pet = {'kind':'Rabbit','owner':'Haris'}\n",
    "pets.append(pet)"
   ]
  },
  {
   "cell_type": "code",
   "execution_count": 56,
   "metadata": {},
   "outputs": [
    {
     "name": "stdout",
     "output_type": "stream",
     "text": [
      "Abdullah has a pet and it is a Dog\n",
      "Nasir has a pet and it is a Bird\n",
      "Haris has a pet and it is a Rabbit\n"
     ]
    }
   ],
   "source": [
    "for pet in pets:\n",
    "    kind = pet['kind']\n",
    "    owner = pet['owner']\n",
    "    print(f'{owner} has a pet and it is a {kind}')"
   ]
  },
  {
   "cell_type": "markdown",
   "metadata": {},
   "source": [
    "6-9. Favorite Places: Make a dictionary called favorite_places. Think of three\n",
    "names to use as keys in the dictionary, and store one to three favorite places\n",
    "for each person. To make this exercise a bit more interesting, ask some friends\n",
    "to name a few of their favorite places. Loop through the dictionary, and print\n",
    "each person’s name and their favorite places."
   ]
  },
  {
   "cell_type": "code",
   "execution_count": 57,
   "metadata": {},
   "outputs": [
    {
     "name": "stdout",
     "output_type": "stream",
     "text": [
      "kamran likes to live at 4 Menar in Karachi.\n",
      "Wahid likes to live at Garden East in Karachi.\n",
      "Qasim likes to live at Tariq Rd in Karachi.\n"
     ]
    }
   ],
   "source": [
    "favorite_places = {'kamran':'4 Menar','Wahid':'Garden East','Qasim':'Tariq Rd'}\n",
    "for k,v in favorite_places.items():\n",
    "    print(f'{k} likes to live at {v} in Karachi.')"
   ]
  },
  {
   "cell_type": "markdown",
   "metadata": {},
   "source": [
    "6-10. Favorite Numbers: Modify your program from Exercise 6-2 (page 102) so\n",
    "each person can have more than one favorite number. Then print each person’s\n",
    "name along with their favorite numbers."
   ]
  },
  {
   "cell_type": "code",
   "execution_count": 63,
   "metadata": {},
   "outputs": [
    {
     "name": "stdout",
     "output_type": "stream",
     "text": [
      "Abdul Bari like these two numbers: 33 44 \n",
      "Haadia like these two numbers: 3 21 \n",
      "Basit like these two numbers: 24 64 \n",
      "Furqan like these two numbers: 1 97 \n",
      "Fahad like these two numbers: 6 19 \n"
     ]
    }
   ],
   "source": [
    "favorite_numbers = {'Abdul Bari': [33,44],'Haadia': [3,21],'Basit': [24,64],'Furqan': [1,97],'Fahad': [6,19]}\n",
    "for k,v in favorite_numbers.items():\n",
    "    print(f'{k} like these two numbers:',end=' ')\n",
    "    for z in v:\n",
    "        print(f\"{z}\",end=' ')\n",
    "    print('')"
   ]
  },
  {
   "cell_type": "markdown",
   "metadata": {},
   "source": [
    "6-11. Cities: Make a dictionary called cities. Use the names of three cities as\n",
    "keys in your dictionary. Create a dictionary of information about each city and\n",
    "include the country that the city is in, its approximate population, and one fact\n",
    "about that city. The keys for each city’s dictionary should be something like\n",
    "country, population, and fact. Print the name of each city and all of the information you have stored about it."
   ]
  },
  {
   "cell_type": "code",
   "execution_count": 64,
   "metadata": {},
   "outputs": [],
   "source": [
    "cities = {'karachi':{'country':'pakistan','population':2000000,'fact':'sea ports'},'lahore':{'country':'pakistan','population':1000000,'fact':'industries'},'sialkot':{'country':'pakistan','population':700000,'fact':'sports goods'}}"
   ]
  },
  {
   "cell_type": "code",
   "execution_count": 68,
   "metadata": {},
   "outputs": [
    {
     "name": "stdout",
     "output_type": "stream",
     "text": [
      "Karachi is the city of 700000 citizens in the Country of Pakistan and is popular for its sports goods\n",
      "Lahore is the city of 700000 citizens in the Country of Pakistan and is popular for its sports goods\n",
      "Sialkot is the city of 700000 citizens in the Country of Pakistan and is popular for its sports goods\n"
     ]
    }
   ],
   "source": [
    "for k,v in cities.items():\n",
    "    print(f'{k.title()} is the city of',end=' ')\n",
    "    for y in cities.values():\n",
    "        country = y['country']\n",
    "        pop = y['population']\n",
    "        fact = y['fact']\n",
    "    print(f'{pop} citizens in the Country of {country.title()} and is popular for its {fact}')\n",
    "        "
   ]
  },
  {
   "cell_type": "markdown",
   "metadata": {},
   "source": [
    "6-12. Extensions: We’re now working with examples that are complex enough\n",
    "that they can be extended in any number of ways. Use one of the example programs from this chapter, and extend it by adding new keys and values, changing the context of the program or improving the formatting of the output."
   ]
  },
  {
   "cell_type": "code",
   "execution_count": 69,
   "metadata": {},
   "outputs": [
    {
     "name": "stdout",
     "output_type": "stream",
     "text": [
      "Jen\n",
      "Sarah\n",
      "John\n",
      "Adam\n",
      "James\n",
      "Danis\n",
      "Richy\n"
     ]
    }
   ],
   "source": [
    "polled_people = ['jen','sarah','john','adam','james','danis','richy']\n",
    "for i in polled_people:\n",
    "    print(i.title())"
   ]
  }
 ],
 "metadata": {
  "kernelspec": {
   "display_name": "Python 3",
   "language": "python",
   "name": "python3"
  },
  "language_info": {
   "codemirror_mode": {
    "name": "ipython",
    "version": 3
   },
   "file_extension": ".py",
   "mimetype": "text/x-python",
   "name": "python",
   "nbconvert_exporter": "python",
   "pygments_lexer": "ipython3",
   "version": "3.7.3"
  }
 },
 "nbformat": 4,
 "nbformat_minor": 4
}
