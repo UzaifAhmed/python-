{
 "cells": [
  {
   "cell_type": "markdown",
   "metadata": {},
   "source": [
    "# TRY IT YOURSELF Chapter 10"
   ]
  },
  {
   "cell_type": "markdown",
   "metadata": {},
   "source": [
    "10-3"
   ]
  },
  {
   "cell_type": "code",
   "execution_count": null,
   "metadata": {},
   "outputs": [],
   "source": [
    "user = input('Your name: ')\n",
    "with open('guest.txt','w+') as guest:\n",
    "    guest.write(user+\"\\n\")"
   ]
  },
  {
   "cell_type": "markdown",
   "metadata": {},
   "source": [
    "10-4"
   ]
  },
  {
   "cell_type": "code",
   "execution_count": null,
   "metadata": {},
   "outputs": [],
   "source": [
    "# Input Passengers / Guests in a txt file\n",
    "flag = True\n",
    "while flag:\n",
    "    a = input('Your names or quit: ')\n",
    "    if a == 'quit':\n",
    "        flag = False\n",
    "    else:\n",
    "        print(f'Hello {a}, Your Ticket has been Booked')\n",
    "        with open('guest.txt','a') as guest:\n",
    "            guest.write(a+\"\\n\")\n",
    "    "
   ]
  },
  {
   "cell_type": "code",
   "execution_count": 3,
   "metadata": {},
   "outputs": [
    {
     "name": "stdout",
     "output_type": "stream",
     "text": [
      "Find name or quit: talha\n",
      "Passenger name: talha, Verified!\n",
      "Find name or quit: haseeb\n",
      "Passenger name: haseeb, Verified!\n",
      "Find name or quit: quit\n"
     ]
    }
   ],
   "source": [
    "# Check Passengers / Guests in a txt file\n",
    "flag = True\n",
    "while flag:\n",
    "    a = input('Find name or quit: ')\n",
    "    if a == 'quit':\n",
    "        flag = False\n",
    "    else:\n",
    "        with open('guest.txt','r') as check:\n",
    "            passengers = check.read()\n",
    "            if a in passengers.lower():\n",
    "                print(f'Passenger name: {a}, Verified!')\n",
    "            else:\n",
    "                print(f'No Passenger {a}')"
   ]
  },
  {
   "cell_type": "code",
   "execution_count": 1,
   "metadata": {},
   "outputs": [
    {
     "name": "stdout",
     "output_type": "stream",
     "text": [
      "Find name: talha\n",
      "WELCOME\n"
     ]
    }
   ],
   "source": [
    "with open('guest.txt','r') as r:\n",
    "    guest = r.read()\n",
    "    guest_name = input('Find name: ')\n",
    "    if guest_name in guest.lower():\n",
    "        print('WELCOME')\n",
    "    else:\n",
    "        print('SORRY')"
   ]
  },
  {
   "cell_type": "markdown",
   "metadata": {},
   "source": [
    "# JSON (Java Script Object Notation)"
   ]
  },
  {
   "cell_type": "code",
   "execution_count": 5,
   "metadata": {},
   "outputs": [],
   "source": [
    "# dump\n",
    "import json\n",
    "numbers = [1,2,3,4,5,6,7,8,9]\n",
    "with open('filename.json','w') as f_obj:\n",
    "    json.dump(numbers,f_obj)"
   ]
  },
  {
   "cell_type": "code",
   "execution_count": 10,
   "metadata": {},
   "outputs": [
    {
     "name": "stdout",
     "output_type": "stream",
     "text": [
      "[1, 2, 3, 4, 5, 6, 7, 8, 9]\n"
     ]
    }
   ],
   "source": [
    "# load\n",
    "import json\n",
    "with open('filename.json') as f_obj:\n",
    "    numbers = json.load(f_obj)\n",
    "\n",
    "print(numbers)"
   ]
  }
 ],
 "metadata": {
  "kernelspec": {
   "display_name": "Python 3",
   "language": "python",
   "name": "python3"
  },
  "language_info": {
   "codemirror_mode": {
    "name": "ipython",
    "version": 3
   },
   "file_extension": ".py",
   "mimetype": "text/x-python",
   "name": "python",
   "nbconvert_exporter": "python",
   "pygments_lexer": "ipython3",
   "version": "3.8.5"
  }
 },
 "nbformat": 4,
 "nbformat_minor": 4
}
