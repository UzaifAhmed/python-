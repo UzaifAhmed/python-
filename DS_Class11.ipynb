{
 "cells": [
  {
   "cell_type": "markdown",
   "metadata": {},
   "source": [
    "# Exception Handling"
   ]
  },
  {
   "cell_type": "code",
   "execution_count": 7,
   "metadata": {},
   "outputs": [
    {
     "name": "stdout",
     "output_type": "stream",
     "text": [
      "Enter any number56\n",
      "Enter any number5\n",
      "11\n",
      "nahi i\n",
      "I continued printing\n",
      "I don't care about Error\n"
     ]
    }
   ],
   "source": [
    "try:\n",
    "    a = int(input('Enter any number'))\n",
    "    b = int(input('Enter any number'))\n",
    "    c = a//b\n",
    "    d = []\n",
    "    print(c)\n",
    "\n",
    "except ZeroDivisionError:\n",
    "    print('Exception:\\n\\t ZeroDivisionError accured')\n",
    "except IndexError:\n",
    "    print('Exception\\n\\t IndexError accured')\n",
    "except ValueError:\n",
    "    print('Exception\\n\\t ValueError accured')\n",
    "else:\n",
    "    print('nahi i')\n",
    "finally:\n",
    "    print('I continued printing\\nI don\\'t care about Error')\n"
   ]
  },
  {
   "cell_type": "code",
   "execution_count": 8,
   "metadata": {},
   "outputs": [],
   "source": [
    "class student():\n",
    "    def __init__(self,name,age):\n",
    "        if age > 80 and age < 16:\n",
    "            raise Exception('Age only between 17-79')\n",
    "        self.name = name\n",
    "        self.age = age"
   ]
  },
  {
   "cell_type": "code",
   "execution_count": 12,
   "metadata": {},
   "outputs": [
    {
     "data": {
      "text/plain": [
       "<__main__.student at 0x260ccdefb48>"
      ]
     },
     "execution_count": 12,
     "metadata": {},
     "output_type": "execute_result"
    }
   ],
   "source": [
    "student('Iftikhar',50)"
   ]
  },
  {
   "cell_type": "code",
   "execution_count": null,
   "metadata": {},
   "outputs": [],
   "source": [
    "try:\n",
    "    age = int(input('Enter students age: '))\n",
    "    st = student('Hello',age)\n",
    "except Exception as e:\n",
    "    print('Exception: '+str(e))\n",
    "else:\n",
    "    print(st.age)"
   ]
  },
  {
   "cell_type": "markdown",
   "metadata": {},
   "source": [
    "# Statistics"
   ]
  },
  {
   "cell_type": "code",
   "execution_count": 13,
   "metadata": {},
   "outputs": [],
   "source": [
    "# Assignment\n",
    "#1st Topic:\n",
    "#    Centeral Tendencies: Mean, Meadian, Mode, Standard Deviation, Variance\n",
    "# Funnel Anaysis\n",
    "# Chun Analysis\n",
    "# A(old version) B(new version) Analysis\n",
    "# "
   ]
  },
  {
   "cell_type": "markdown",
   "metadata": {},
   "source": [
    "# OOP"
   ]
  },
  {
   "cell_type": "code",
   "execution_count": 14,
   "metadata": {},
   "outputs": [],
   "source": [
    "#\n",
    "#Theory\n",
    "# Encapsulation...Inheritance(Car 1st modle then its upgration will be inheritance.)"
   ]
  },
  {
   "cell_type": "markdown",
   "metadata": {},
   "source": [
    "# Class"
   ]
  },
  {
   "cell_type": "code",
   "execution_count": null,
   "metadata": {},
   "outputs": [],
   "source": [
    "#Class= Sample Modle\n",
    "# and when we call Class it generates an Object\n",
    "# E.g: Class = Car on Launch\n",
    "# E.g: Object = Car in showroom"
   ]
  }
 ],
 "metadata": {
  "kernelspec": {
   "display_name": "Python 3",
   "language": "python",
   "name": "python3"
  },
  "language_info": {
   "codemirror_mode": {
    "name": "ipython",
    "version": 3
   },
   "file_extension": ".py",
   "mimetype": "text/x-python",
   "name": "python",
   "nbconvert_exporter": "python",
   "pygments_lexer": "ipython3",
   "version": "3.7.6"
  }
 },
 "nbformat": 4,
 "nbformat_minor": 4
}
