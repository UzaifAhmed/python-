{
 "cells": [
  {
   "cell_type": "markdown",
   "metadata": {},
   "source": [
    "# Practicing Dictionary"
   ]
  },
  {
   "cell_type": "code",
   "execution_count": 12,
   "metadata": {},
   "outputs": [],
   "source": [
    "def make_album(artist, title,tracks=''):       # '' OR None\n",
    "    a = True\n",
    "    while(a):\n",
    "        artist = input('Artist Name: ')\n",
    "        title = input('Album Title: ')\n",
    "        tracks = input('Track no. (if any)')\n",
    "        Album = {'Artist Name':artist.title(),'Album Title':title.title()}\n",
    "        if tracks:\n",
    "            Album['Track no.'] = tracks\n",
    "        else:\n",
    "            a = False\n",
    "    return Album"
   ]
  },
  {
   "cell_type": "code",
   "execution_count": 15,
   "metadata": {},
   "outputs": [],
   "source": [
    "album1 = make_album('ali zafar','PSL anthem',41)\n",
    "album2 = make_album('Atif aslam','wo lamhay',)\n",
    "album3 = make_album('Mr.A','Any',5)"
   ]
  },
  {
   "cell_type": "code",
   "execution_count": 19,
   "metadata": {},
   "outputs": [
    {
     "name": "stdout",
     "output_type": "stream",
     "text": [
      "{'Artist Name': 'ali zafar', 'Album Title': 'PSL anthem', 'Track no.': 41}\n",
      "{'Artist Name': 'Atif aslam', 'Album Title': 'wo lamhay'}\n",
      "{'Artist Name': 'Mr.A', 'Album Title': 'Any', 'Track no.': 5}\n"
     ]
    }
   ],
   "source": [
    "print(album1,album2,album3,sep='\\n')"
   ]
  },
  {
   "cell_type": "code",
   "execution_count": 34,
   "metadata": {},
   "outputs": [],
   "source": [
    "def make_album2():       # '' OR None\n",
    "    a = True\n",
    "    while(a):\n",
    "        artist = input('Artist Name: ')\n",
    "        title = input('Album Title: ')\n",
    "        tracks = int(input('Track no. (if any) '))\n",
    "        b = input('Press: q or Enter: ')\n",
    "        Album = {'Artist Name':artist.title(),'Album Title':title.title()}\n",
    "        Album_list = []\n",
    "        Album_list.append(Album)\n",
    "        if tracks:\n",
    "            Album['Track no.'] = tracks\n",
    "    \n",
    "        if b=='q':\n",
    "            a = False\n",
    "    print(Album_list)"
   ]
  },
  {
   "cell_type": "code",
   "execution_count": 35,
   "metadata": {},
   "outputs": [
    {
     "name": "stdout",
     "output_type": "stream",
     "text": [
      "Artist Name: Salman\n",
      "Album Title: xyz\n",
      "Track no. (if any) 2\n",
      "Press: q or Enter: q\n",
      "[{'Artist Name': 'Salman', 'Album Title': 'Xyz', 'Track no.': 2}]\n"
     ]
    }
   ],
   "source": [
    "make_album2()"
   ]
  },
  {
   "cell_type": "code",
   "execution_count": 41,
   "metadata": {},
   "outputs": [],
   "source": [
    "def tax_calc(basic_salary):\n",
    "    tax_ded = 0\n",
    "    if basic_salary < 30000:\n",
    "        tax_ded = 0\n",
    "    elif basic_salary > 30000 and basic_salary < 50000:\n",
    "        tax_ded = 5\n",
    "    elif basic_salary >= 50000 and basic_salary < 100000:\n",
    "        tax_ded = 10\n",
    "    else:\n",
    "        tax_ded = 15\n",
    "    t_deductions = basic_salary * tax_ded/100\n",
    "    return t_deductions"
   ]
  },
  {
   "cell_type": "code",
   "execution_count": 47,
   "metadata": {},
   "outputs": [],
   "source": [
    "def commition(basic_salary,comm):\n",
    "    per_customer = 2000\n",
    "    total = comm*per_customer\n",
    "    return total"
   ]
  },
  {
   "cell_type": "code",
   "execution_count": 48,
   "metadata": {},
   "outputs": [],
   "source": [
    "def salary_calc(basic_salary,comm):\n",
    "    \n",
    "    gross_salary = basic_salary - tax_calc(basic_salary) + commition(basic_salary,comm)\n",
    "    return gross_salary\n",
    "        "
   ]
  },
  {
   "cell_type": "code",
   "execution_count": 49,
   "metadata": {},
   "outputs": [
    {
     "name": "stdout",
     "output_type": "stream",
     "text": [
      "\n",
      "Enter Basic salary of Employee45000\n",
      "Number of Clients you brought: 1\n",
      "\n",
      "The Gross salary of the Employee is 44750.0\n"
     ]
    }
   ],
   "source": [
    "basic_salary = int(input('\\nEnter Basic salary of Employee'))\n",
    "comm = int(input('Number of Clients you brought: '))\n",
    "GrossSalary = salary_calc(basic_salary,comm)\n",
    "print(f'\\nThe Gross salary of the Employee is {GrossSalary}')"
   ]
  },
  {
   "cell_type": "code",
   "execution_count": null,
   "metadata": {},
   "outputs": [],
   "source": []
  }
 ],
 "metadata": {
  "kernelspec": {
   "display_name": "Python 3",
   "language": "python",
   "name": "python3"
  },
  "language_info": {
   "codemirror_mode": {
    "name": "ipython",
    "version": 3
   },
   "file_extension": ".py",
   "mimetype": "text/x-python",
   "name": "python",
   "nbconvert_exporter": "python",
   "pygments_lexer": "ipython3",
   "version": "3.7.6"
  }
 },
 "nbformat": 4,
 "nbformat_minor": 4
}
