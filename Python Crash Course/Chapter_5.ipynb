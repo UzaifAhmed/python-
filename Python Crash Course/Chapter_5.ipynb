{
 "cells": [
  {
   "cell_type": "markdown",
   "metadata": {},
   "source": [
    "5-2. More Conditional Tests: You don’t have to limit the number of tests you\n",
    "create to 10. If you want to try more comparisons, write more tests and add\n",
    "them to conditional_tests.py. Have at least one True and one False result for\n",
    "each of the following:\n",
    "•\t Tests for equality and inequality with strings"
   ]
  },
  {
   "cell_type": "code",
   "execution_count": 1,
   "metadata": {},
   "outputs": [
    {
     "name": "stdout",
     "output_type": "stream",
     "text": [
      "Is my name recorded?\n",
      " True\n"
     ]
    }
   ],
   "source": [
    "name = 'Subhan'\n",
    "print('Is my name recorded?\\n',name == 'Subhan')"
   ]
  },
  {
   "cell_type": "code",
   "execution_count": 2,
   "metadata": {},
   "outputs": [
    {
     "name": "stdout",
     "output_type": "stream",
     "text": [
      "Who invented Computer?\n",
      " True\n"
     ]
    }
   ],
   "source": [
    "Answer = 'charles babage'\n",
    "print('Who invented Computer?\\n',Answer == 'charles babage')"
   ]
  },
  {
   "cell_type": "code",
   "execution_count": 3,
   "metadata": {},
   "outputs": [
    {
     "name": "stdout",
     "output_type": "stream",
     "text": [
      "Who is the owner of Facebook?\n",
      " True\n"
     ]
    }
   ],
   "source": [
    "fb = 'mark zakerberg'\n",
    "print('Who is the owner of Facebook?\\n',fb == 'mark zakerberg')"
   ]
  },
  {
   "cell_type": "code",
   "execution_count": 4,
   "metadata": {},
   "outputs": [
    {
     "name": "stdout",
     "output_type": "stream",
     "text": [
      "Is the gate Open?\n",
      " True\n"
     ]
    }
   ],
   "source": [
    "Gate = 'Open'\n",
    "print('Is the gate Open?\\n',Gate == 'Open')"
   ]
  },
  {
   "cell_type": "code",
   "execution_count": 5,
   "metadata": {},
   "outputs": [
    {
     "name": "stdout",
     "output_type": "stream",
     "text": [
      "Taking money from somebody for limited time is Credit.\n",
      " True\n"
     ]
    }
   ],
   "source": [
    "called = 'credit'\n",
    "print('Taking money from somebody for limited time is Credit.\\n',called == 'credit')"
   ]
  },
  {
   "cell_type": "code",
   "execution_count": 6,
   "metadata": {},
   "outputs": [
    {
     "name": "stdout",
     "output_type": "stream",
     "text": [
      "Is the fan On?\n",
      " False\n"
     ]
    }
   ],
   "source": [
    "fan = 'On'\n",
    "print('Is the fan On?\\n',fan == 'Off')"
   ]
  },
  {
   "cell_type": "code",
   "execution_count": 7,
   "metadata": {},
   "outputs": [
    {
     "name": "stdout",
     "output_type": "stream",
     "text": [
      "Is car == '1000cc'? I predict False.\n",
      "False\n"
     ]
    }
   ],
   "source": [
    "car = '1200cc'\n",
    "print(\"Is car == '1000cc'? I predict False.\")\n",
    "print(car == 'subaru')"
   ]
  },
  {
   "cell_type": "code",
   "execution_count": 8,
   "metadata": {},
   "outputs": [
    {
     "name": "stdout",
     "output_type": "stream",
     "text": [
      "Is the movie == 'Action'? I predict False.\n",
      "False\n"
     ]
    }
   ],
   "source": [
    "film = 'comedy'\n",
    "print(\"Is the movie == 'Action'? I predict False.\")\n",
    "print(film == 'Action')"
   ]
  },
  {
   "cell_type": "code",
   "execution_count": 9,
   "metadata": {},
   "outputs": [
    {
     "name": "stdout",
     "output_type": "stream",
     "text": [
      "Is mobile == 'charging'? I predict False.\n",
      "False\n"
     ]
    }
   ],
   "source": [
    "mobile = 'charged'\n",
    "print(\"Is mobile == 'charging'? I predict False.\")\n",
    "print(mobile == 'charging')"
   ]
  },
  {
   "cell_type": "code",
   "execution_count": 10,
   "metadata": {},
   "outputs": [
    {
     "name": "stdout",
     "output_type": "stream",
     "text": [
      "Did you received == 'email'? I predict False.\n",
      "False\n"
     ]
    }
   ],
   "source": [
    "email = 'spam'\n",
    "print(\"Did you received == 'email'? I predict False.\")\n",
    "print(email == 'email')"
   ]
  },
  {
   "cell_type": "markdown",
   "metadata": {},
   "source": [
    "•\t Tests using the lower() function"
   ]
  },
  {
   "cell_type": "code",
   "execution_count": 11,
   "metadata": {},
   "outputs": [
    {
     "name": "stdout",
     "output_type": "stream",
     "text": [
      "False\n"
     ]
    }
   ],
   "source": [
    "print(email.lower() == 'email')"
   ]
  },
  {
   "cell_type": "code",
   "execution_count": 12,
   "metadata": {},
   "outputs": [
    {
     "name": "stdout",
     "output_type": "stream",
     "text": [
      "True\n"
     ]
    }
   ],
   "source": [
    "print(mobile.lower() == 'charged')"
   ]
  },
  {
   "cell_type": "markdown",
   "metadata": {},
   "source": [
    "•\t Numerical tests involving equality and inequality, greater than and\n",
    "less than, greater than or equal to, and less than or equal to"
   ]
  },
  {
   "cell_type": "code",
   "execution_count": 13,
   "metadata": {},
   "outputs": [
    {
     "name": "stdout",
     "output_type": "stream",
     "text": [
      "Are the numbers equal?\n",
      " False\n",
      "Numbers are not equal?\n",
      " True\n",
      "Number1 is greater?\n",
      " False\n",
      "Number1 is less than Number2?\n",
      " True\n",
      "Number1 is greater than or equal to Number2?\n",
      " False\n",
      "Number1 is less than or equal to Number2?\n",
      " True\n"
     ]
    }
   ],
   "source": [
    "num1 = 6\n",
    "num2 = 10\n",
    "print('Are the numbers equal?\\n',num1 == num2)\n",
    "print('Numbers are not equal?\\n',num1 != num2)\n",
    "print('Number1 is greater?\\n',num1 > num2)\n",
    "print('Number1 is less than Number2?\\n',num1 < num2)\n",
    "print('Number1 is greater than or equal to Number2?\\n',num1 >= num2)\n",
    "print('Number1 is less than or equal to Number2?\\n',num1 <= num2)"
   ]
  },
  {
   "cell_type": "markdown",
   "metadata": {},
   "source": [
    "•\t Tests using the and keyword and the or keyword"
   ]
  },
  {
   "cell_type": "code",
   "execution_count": 14,
   "metadata": {},
   "outputs": [
    {
     "name": "stdout",
     "output_type": "stream",
     "text": [
      "Between Number1 = 6 and Number2 = 10\n",
      "What will be preffered?\n",
      " 10\n",
      "\n",
      "Between Number1 = 6 or Number2 = 10\n",
      "What will be preffered?\n",
      " 6\n"
     ]
    }
   ],
   "source": [
    "print(f'Between Number1 = {num1} and Number2 = {num2}\\nWhat will be preffered?\\n',num1 and num2)\n",
    "print(f'\\nBetween Number1 = {num1} or Number2 = {num2}\\nWhat will be preffered?\\n',num1 or num2)"
   ]
  },
  {
   "cell_type": "markdown",
   "metadata": {},
   "source": [
    "• Test whether an item is in a list"
   ]
  },
  {
   "cell_type": "code",
   "execution_count": 15,
   "metadata": {},
   "outputs": [
    {
     "name": "stdout",
     "output_type": "stream",
     "text": [
      "True\n"
     ]
    }
   ],
   "source": [
    "list = [1,2,3,4,5,5,6,7,9]\n",
    "if num1 in list:\n",
    "    print(True)"
   ]
  },
  {
   "cell_type": "markdown",
   "metadata": {},
   "source": [
    "•\t Test whether an item is not in a list"
   ]
  },
  {
   "cell_type": "code",
   "execution_count": 16,
   "metadata": {},
   "outputs": [
    {
     "name": "stdout",
     "output_type": "stream",
     "text": [
      "False\n"
     ]
    }
   ],
   "source": [
    "if 8 in list:\n",
    "    print(True)\n",
    "    \n",
    "else:\n",
    "    print(False)"
   ]
  },
  {
   "cell_type": "markdown",
   "metadata": {},
   "source": [
    "5-3. Alien Colors #1: Imagine an alien was just shot down in a game. Create a\n",
    "variable called alien_color and assign it a value of 'green', 'yellow', or 'red'."
   ]
  },
  {
   "cell_type": "code",
   "execution_count": 17,
   "metadata": {},
   "outputs": [],
   "source": [
    "alien_color = 'green'"
   ]
  },
  {
   "cell_type": "markdown",
   "metadata": {},
   "source": [
    "•\t Write an if statement to test whether the alien’s color is green. If it is, print\n",
    "a message that the player just earned 5 points."
   ]
  },
  {
   "cell_type": "code",
   "execution_count": 18,
   "metadata": {},
   "outputs": [
    {
     "name": "stdout",
     "output_type": "stream",
     "text": [
      "The player just earned 5 points\n"
     ]
    }
   ],
   "source": [
    "if alien_color == 'green':\n",
    "    print('The player just earned 5 points')"
   ]
  },
  {
   "cell_type": "markdown",
   "metadata": {},
   "source": [
    "•\t Write one version of this program that passes the if test and another that\n",
    "fails. (The version that fails will have no output.)"
   ]
  },
  {
   "cell_type": "code",
   "execution_count": 19,
   "metadata": {},
   "outputs": [],
   "source": [
    "alien_color = 'red'\n",
    "if alien_color == 'green':\n",
    "    print('The player just earned 5 points')"
   ]
  },
  {
   "cell_type": "markdown",
   "metadata": {},
   "source": [
    "5-4. Alien Colors #2: Choose a color for an alien as you did in Exercise 5-3, and\n",
    "write an if-else chain."
   ]
  },
  {
   "cell_type": "code",
   "execution_count": 20,
   "metadata": {},
   "outputs": [
    {
     "name": "stdout",
     "output_type": "stream",
     "text": [
      "Try again later\n"
     ]
    }
   ],
   "source": [
    "if alien_color == 'green':\n",
    "    print('The player just earned 5 points')\n",
    "else:\n",
    "    print('Try again later')"
   ]
  },
  {
   "cell_type": "markdown",
   "metadata": {},
   "source": [
    "•\t If the alien’s color is green, print a statement that the player just earned\n",
    "5 points for shooting the alien."
   ]
  },
  {
   "cell_type": "code",
   "execution_count": 21,
   "metadata": {},
   "outputs": [
    {
     "name": "stdout",
     "output_type": "stream",
     "text": [
      "Try again later\n"
     ]
    }
   ],
   "source": [
    "if alien_color == 'green':\n",
    "    print('The player just earned 5 points for shooting the alien')\n",
    "else:\n",
    "    print('Try again later')"
   ]
  },
  {
   "cell_type": "markdown",
   "metadata": {},
   "source": [
    "•\t If the alien’s color isn’t green, print a statement that the player just earned\n",
    "10 points."
   ]
  },
  {
   "cell_type": "code",
   "execution_count": 22,
   "metadata": {},
   "outputs": [
    {
     "name": "stdout",
     "output_type": "stream",
     "text": [
      "The player just earned 10 points\n"
     ]
    }
   ],
   "source": [
    "if alien_color == 'green':\n",
    "    print('The player just earned 5 points for shooting the alien')\n",
    "else:\n",
    "    print('The player just earned 10 points')"
   ]
  },
  {
   "cell_type": "markdown",
   "metadata": {},
   "source": [
    "•\t Write one version of this program that runs the if block and another that\n",
    "runs the else block."
   ]
  },
  {
   "cell_type": "code",
   "execution_count": 23,
   "metadata": {},
   "outputs": [
    {
     "name": "stdout",
     "output_type": "stream",
     "text": [
      "The player just earned 5 points for shooting the alien\n",
      "The player just earned 10 points\n"
     ]
    }
   ],
   "source": [
    "alien_color = 'green'\n",
    "if alien_color == 'green':\n",
    "    print('The player just earned 5 points for shooting the alien')\n",
    "else:\n",
    "    print('The player just earned 10 points')\n",
    "\n",
    "alien_color = 'red'\n",
    "if alien_color == 'green':\n",
    "    print('The player just earned 5 points for shooting the alien')\n",
    "else:\n",
    "    print('The player just earned 10 points')"
   ]
  },
  {
   "cell_type": "markdown",
   "metadata": {},
   "source": [
    "5-5. Alien Colors #3: Turn your if-else chain from Exercise 5-4 into an if-elifelse chain.<Br>\n",
    "•\t If the alien is green, print a message that the player earned 5 points.<Br>\n",
    "•\t If the alien is yellow, print a message that the player earned 10 points.<Br>\n",
    "•\t If the alien is red, print a message that the player earned 15 points.<Br>\n",
    "•\t Write three versions of this program, making sure each message is printed\n",
    "for the appropriate color alien."
   ]
  },
  {
   "cell_type": "code",
   "execution_count": 25,
   "metadata": {},
   "outputs": [
    {
     "name": "stdout",
     "output_type": "stream",
     "text": [
      "The player earned 15 points.\n"
     ]
    }
   ],
   "source": [
    "if alien_color == 'green':\n",
    "    print('The player earned 5 points.')\n",
    "elif alien_color == 'yellow':\n",
    "    print('The player earned 10 points.')\n",
    "elif alien_color == 'red':\n",
    "    print('The player earned 15 points.')"
   ]
  },
  {
   "cell_type": "markdown",
   "metadata": {},
   "source": [
    "5-6. Stages of Life: Write an if-elif-else chain that determines a person’s\n",
    "stage of life. Set a value for the variable age, and then:<Br>\n",
    "•\t If the person is less than 2 years old, print a message that the person is\n",
    "a baby.<Br>\n",
    "•\t If the person is at least 2 years old but less than 4, print a message that\n",
    "the person is a toddler.<Br>\n",
    "•\t If the person is at least 4 years old but less than 13, print a message that\n",
    "the person is a kid.<Br>\n",
    "•\t If the person is at least 13 years old but less than 20, print a message that\n",
    "the person is a teenager.<Br>\n",
    "•\t If the person is at least 20 years old but less than 65, print a message that\n",
    "the person is an adult.<Br>\n",
    "•\t If the person is age 65 or older, print a message that the person is an\n",
    "elder."
   ]
  },
  {
   "cell_type": "code",
   "execution_count": 28,
   "metadata": {},
   "outputs": [
    {
     "name": "stdout",
     "output_type": "stream",
     "text": [
      "The person is an elder.\n"
     ]
    }
   ],
   "source": [
    "age = 66\n",
    "\n",
    "if age < 2:\n",
    "    print('The person is a baby.')\n",
    "elif age > 2 and age < 4:\n",
    "    print('The person is a toddler.')\n",
    "elif age > 4 and age < 13:\n",
    "    print('The person is a kid.')\n",
    "elif age > 13 and age < 20:\n",
    "    print('The person is a teenager.')\n",
    "elif age > 20 and age < 65:\n",
    "    print('The person is a adult.')\n",
    "else:\n",
    "    print('The person is an elder.')"
   ]
  },
  {
   "cell_type": "markdown",
   "metadata": {},
   "source": [
    "5-7. Favorite Fruit: Make a list of your favorite fruits, and then write a series of\n",
    "independent if statements that check for certain fruits in your list."
   ]
  },
  {
   "cell_type": "code",
   "execution_count": 31,
   "metadata": {},
   "outputs": [
    {
     "name": "stdout",
     "output_type": "stream",
     "text": [
      "True\n",
      "True\n"
     ]
    }
   ],
   "source": [
    "my_favorite_fruits = ['apple','banana','mango','grapes','pineapple','orange']\n",
    "series = ['apple','pineapple']\n",
    "for x in series:\n",
    "    if x in my_favorite_fruits:\n",
    "        print(True)"
   ]
  },
  {
   "cell_type": "markdown",
   "metadata": {},
   "source": [
    "•\t Make a list of your three favorite fruits and call it favorite_fruits."
   ]
  },
  {
   "cell_type": "code",
   "execution_count": 32,
   "metadata": {},
   "outputs": [],
   "source": [
    "favorite_fruits = ['grapes','pineapple','orange']"
   ]
  },
  {
   "cell_type": "markdown",
   "metadata": {},
   "source": [
    "•\t Write five if statements. Each should check whether a certain kind of fruit\n",
    "is in your list. If the fruit is in your list, the if block should print a statement,\n",
    "such as You really like bananas!"
   ]
  },
  {
   "cell_type": "code",
   "execution_count": 33,
   "metadata": {},
   "outputs": [
    {
     "name": "stdout",
     "output_type": "stream",
     "text": [
      "You really like grapes!\n",
      "You really like orange!\n"
     ]
    }
   ],
   "source": [
    "# 1\n",
    "if 'apple' in favorite_fruits:\n",
    "    print('You really like apple!')\n",
    "# 2\n",
    "if 'banana' in favorite_fruits:\n",
    "    print('You really like banana!')\n",
    "# 3\n",
    "if 'mango' in favorite_fruits:\n",
    "    print('You really like mango!')\n",
    "# 4\n",
    "if 'grapes' in favorite_fruits:\n",
    "    print('You really like grapes!')\n",
    "# 5\n",
    "if 'orange' in favorite_fruits:\n",
    "    print('You really like orange!')"
   ]
  },
  {
   "cell_type": "markdown",
   "metadata": {},
   "source": [
    "5-8. Hello Admin: Make a list of five or more usernames, including the name\n",
    "'admin'. Imagine you are writing code that will print a greeting to each user\n",
    "after they log in to a website. Loop through the list, and print a greeting to\n",
    "each user:"
   ]
  },
  {
   "cell_type": "code",
   "execution_count": 10,
   "metadata": {},
   "outputs": [],
   "source": [
    "usernames = ['Haris','Faizan','Kamran','admin','Manan']"
   ]
  },
  {
   "cell_type": "markdown",
   "metadata": {},
   "source": [
    "•\t If the username is 'admin', print a special greeting, such as Hello admin,\n",
    "would you like to see a status report?"
   ]
  },
  {
   "cell_type": "code",
   "execution_count": 7,
   "metadata": {},
   "outputs": [
    {
     "name": "stdout",
     "output_type": "stream",
     "text": [
      "Hello Haris, thank you for logging in again.\n",
      "Hello Faizan, thank you for logging in again.\n",
      "Hello Kamran, thank you for logging in again.\n",
      "Hello admin, would you like to see a status report\n",
      "Hello Manan, thank you for logging in again.\n"
     ]
    }
   ],
   "source": [
    "for x in usernames:\n",
    "    print(f'Hello {x}',end='')\n",
    "    if x == 'admin':\n",
    "        print(', would you like to see a status report')\n",
    "    else:\n",
    "        print(', thank you for logging in again.')"
   ]
  },
  {
   "cell_type": "markdown",
   "metadata": {},
   "source": [
    "5-9. No Users: Add an if test to hello_admin.py to make sure the list of users is\n",
    "not empty.<Br>\n",
    "•\t If the list is empty, print the message We need to find some users!"
   ]
  },
  {
   "cell_type": "code",
   "execution_count": 8,
   "metadata": {},
   "outputs": [
    {
     "name": "stdout",
     "output_type": "stream",
     "text": [
      "Hello Haris, thank you for logging in again.\n",
      "Hello Faizan, thank you for logging in again.\n",
      "Hello Kamran, thank you for logging in again.\n",
      "Hello admin, would you like to see a status report\n",
      "Hello Manan, thank you for logging in again.\n"
     ]
    }
   ],
   "source": [
    "if len(usernames) == 0:\n",
    "    print('We need to find some users!')\n",
    "else:\n",
    "    for x in usernames:\n",
    "        print(f'Hello {x}',end='')\n",
    "        if x == 'admin':\n",
    "            print(', would you like to see a status report')\n",
    "        else:\n",
    "            print(', thank you for logging in again.')"
   ]
  },
  {
   "cell_type": "markdown",
   "metadata": {},
   "source": [
    "•\t Remove all of the usernames from your list, and make sure the correct\n",
    "message is printed."
   ]
  },
  {
   "cell_type": "code",
   "execution_count": 9,
   "metadata": {},
   "outputs": [
    {
     "name": "stdout",
     "output_type": "stream",
     "text": [
      "We need to find some users!\n"
     ]
    }
   ],
   "source": [
    "usernames.clear()\n",
    "if len(usernames) == 0:\n",
    "    print('We need to find some users!')\n",
    "else:\n",
    "    for x in usernames:\n",
    "        print(f'Hello {x}',end='')\n",
    "        if x == 'admin':\n",
    "            print(', would you like to see a status report')\n",
    "        else:\n",
    "            print(', thank you for logging in again.')"
   ]
  },
  {
   "cell_type": "markdown",
   "metadata": {},
   "source": [
    "5-10. Checking Usernames: Do the following to create a program that simulates\n",
    "how websites ensure that everyone has a unique username.<Br>\n",
    "•\t Make a list of five or more usernames called current_users."
   ]
  },
  {
   "cell_type": "code",
   "execution_count": 11,
   "metadata": {},
   "outputs": [],
   "source": [
    "current_users = usernames.copy()"
   ]
  },
  {
   "cell_type": "markdown",
   "metadata": {},
   "source": [
    "•\t Make another list of five usernames called new_users. Make sure one or\n",
    "two of the new usernames are also in the current_users list."
   ]
  },
  {
   "cell_type": "code",
   "execution_count": 23,
   "metadata": {},
   "outputs": [],
   "source": [
    "new_users = current_users[:2].copy() + ['Jibram','Qasim','Nasir']"
   ]
  },
  {
   "cell_type": "markdown",
   "metadata": {},
   "source": [
    "•\t Loop through the new_users list to see if each new username has already\n",
    "been used. If it has, print a message that the person will need to enter a\n",
    "new username. If a username has not been used, print a message saying\n",
    "that the username is available."
   ]
  },
  {
   "cell_type": "code",
   "execution_count": 25,
   "metadata": {},
   "outputs": [
    {
     "name": "stdout",
     "output_type": "stream",
     "text": [
      "The person will need to enter a new username.\n",
      "The person will need to enter a new username.\n",
      "The username is available.\n",
      "The username is available.\n",
      "The username is available.\n"
     ]
    }
   ],
   "source": [
    "for x in new_users:\n",
    "    if x in current_users:\n",
    "        print('The person will need to enter a new username.')\n",
    "    else:\n",
    "        print('The username is available.')"
   ]
  },
  {
   "cell_type": "markdown",
   "metadata": {},
   "source": [
    "•\t Make sure your comparison is case insensitive. If 'John' has been used,\n",
    "'JOHN' should not be accepted."
   ]
  },
  {
   "cell_type": "code",
   "execution_count": 26,
   "metadata": {},
   "outputs": [
    {
     "name": "stdout",
     "output_type": "stream",
     "text": [
      "The person will need to enter a new username.\n",
      "The person will need to enter a new username.\n",
      "The username is available.\n",
      "The username is available.\n",
      "The username is available.\n"
     ]
    }
   ],
   "source": [
    "for x in new_users:\n",
    "    if x.title() in current_users:\n",
    "        print('The person will need to enter a new username.')\n",
    "    else:\n",
    "        print('The username is available.')"
   ]
  },
  {
   "cell_type": "markdown",
   "metadata": {},
   "source": [
    "5-11. Ordinal Numbers: Ordinal numbers indicate their position in a list, such\n",
    "as 1st or 2nd. Most ordinal numbers end in th, except 1, 2, and 3.<Br>\n",
    "•\t Store the numbers 1 through 9 in a list."
   ]
  },
  {
   "cell_type": "code",
   "execution_count": 3,
   "metadata": {},
   "outputs": [],
   "source": [
    "nums = [1,2,3,4,5,6,7,8,9]"
   ]
  },
  {
   "cell_type": "markdown",
   "metadata": {},
   "source": [
    "•\t Loop through the list.<Br>\n",
    "•\t Use an if-elif-else chain inside the loop to print the proper ordinal ending for each number. Your output should read \"1st 2nd 3rd 4th 5th 6th\n",
    "7th 8th 9th\", and each result should be on a separate line."
   ]
  },
  {
   "cell_type": "code",
   "execution_count": 6,
   "metadata": {},
   "outputs": [
    {
     "name": "stdout",
     "output_type": "stream",
     "text": [
      "1st\n",
      "2nd\n",
      "3rd\n",
      "4th\n",
      "5th\n",
      "6th\n",
      "7th\n",
      "8th\n",
      "9th\n"
     ]
    }
   ],
   "source": [
    "for x in nums:\n",
    "    if x == 1:\n",
    "        print('1st')\n",
    "    elif x == 2:\n",
    "        print('2nd')\n",
    "    elif x == 3:\n",
    "        print('3rd')\n",
    "    else:\n",
    "        print(f'{x}th')"
   ]
  }
 ],
 "metadata": {
  "kernelspec": {
   "display_name": "Python 3",
   "language": "python",
   "name": "python3"
  },
  "language_info": {
   "codemirror_mode": {
    "name": "ipython",
    "version": 3
   },
   "file_extension": ".py",
   "mimetype": "text/x-python",
   "name": "python",
   "nbconvert_exporter": "python",
   "pygments_lexer": "ipython3",
   "version": "3.7.3"
  }
 },
 "nbformat": 4,
 "nbformat_minor": 4
}
