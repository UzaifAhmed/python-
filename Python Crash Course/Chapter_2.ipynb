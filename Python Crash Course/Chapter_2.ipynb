{
 "cells": [
  {
   "cell_type": "code",
   "execution_count": 1,
   "metadata": {},
   "outputs": [
    {
     "name": "stdout",
     "output_type": "stream",
     "text": [
      "Hello Programming\n"
     ]
    }
   ],
   "source": [
    "a = 'Hello Programming'\n",
    "print(a)"
   ]
  },
  {
   "cell_type": "code",
   "execution_count": 2,
   "metadata": {},
   "outputs": [
    {
     "name": "stdout",
     "output_type": "stream",
     "text": [
      "Hello World\n",
      "Ready to program?\n"
     ]
    }
   ],
   "source": [
    "a = 'Hello World'\n",
    "print(a)\n",
    "a = 'Ready to program?'\n",
    "print(a)"
   ]
  },
  {
   "cell_type": "code",
   "execution_count": 3,
   "metadata": {},
   "outputs": [
    {
     "name": "stdout",
     "output_type": "stream",
     "text": [
      "Hello Harry, would you like to learn some Python today?\n"
     ]
    }
   ],
   "source": [
    "name = 'Harry'\n",
    "print(f'Hello {name}, would you like to learn some Python today?')"
   ]
  },
  {
   "cell_type": "code",
   "execution_count": 6,
   "metadata": {},
   "outputs": [
    {
     "name": "stdout",
     "output_type": "stream",
     "text": [
      "Upper:HARRY\n",
      "Lower:harry\n",
      "Title:Harry\n"
     ]
    }
   ],
   "source": [
    "print(f'Upper:{name.upper()}\\nLower:{name.lower()}\\nTitle:{name.title()}')"
   ]
  },
  {
   "cell_type": "code",
   "execution_count": 2,
   "metadata": {},
   "outputs": [
    {
     "name": "stdout",
     "output_type": "stream",
     "text": [
      "Mohammad Ali Jinnah once said, \"Their is no power on earth that can undo Pakistan.\"\n"
     ]
    }
   ],
   "source": [
    "name = 'Mohammad Ali Jinnah'\n",
    "quote = 'Their is no power on earth that can undo Pakistan.'\n",
    "print(f'{name.title()} once said, \"{quote}\"')"
   ]
  },
  {
   "cell_type": "code",
   "execution_count": 4,
   "metadata": {},
   "outputs": [
    {
     "name": "stdout",
     "output_type": "stream",
     "text": [
      "Mohammad Ali Jinnah once said, \"Their is no power on earth that can undo Pakistan.\"\n"
     ]
    }
   ],
   "source": [
    "name = 'mohammad ali jinnah'\n",
    "quote = '\"Their is no power on earth that can undo Pakistan.\"'\n",
    "message = (name.title()+\" once said, \"+quote)\n",
    "print(message)"
   ]
  },
  {
   "cell_type": "code",
   "execution_count": 1,
   "metadata": {},
   "outputs": [
    {
     "name": "stdout",
     "output_type": "stream",
     "text": [
      "\n",
      "\n",
      "\tSideeq\n",
      "\t\n"
     ]
    }
   ],
   "source": [
    "name = '\\n\\n\\tSideeq\\n\\t'\n",
    "print(name)"
   ]
  },
  {
   "cell_type": "code",
   "execution_count": 3,
   "metadata": {},
   "outputs": [
    {
     "name": "stdout",
     "output_type": "stream",
     "text": [
      "Sideeq\n",
      "\t\n"
     ]
    }
   ],
   "source": [
    "print(name.lstrip())"
   ]
  },
  {
   "cell_type": "code",
   "execution_count": 4,
   "metadata": {},
   "outputs": [
    {
     "name": "stdout",
     "output_type": "stream",
     "text": [
      "\n",
      "\n",
      "\tSideeq\n"
     ]
    }
   ],
   "source": [
    "print(name.rstrip())"
   ]
  },
  {
   "cell_type": "code",
   "execution_count": 5,
   "metadata": {},
   "outputs": [
    {
     "name": "stdout",
     "output_type": "stream",
     "text": [
      "Sideeq\n"
     ]
    }
   ],
   "source": [
    "print(name.strip())"
   ]
  },
  {
   "cell_type": "code",
   "execution_count": 7,
   "metadata": {},
   "outputs": [
    {
     "name": "stdout",
     "output_type": "stream",
     "text": [
      "8\n",
      "8\n",
      "8\n",
      "8\n"
     ]
    }
   ],
   "source": [
    "print(5 + 3)\n",
    "print(10 - 2)\n",
    "print(4 * 2)\n",
    "print(16 // 2)"
   ]
  },
  {
   "cell_type": "code",
   "execution_count": 2,
   "metadata": {},
   "outputs": [
    {
     "name": "stdout",
     "output_type": "stream",
     "text": [
      "1 is my Favourite Number!\n"
     ]
    }
   ],
   "source": [
    "a = 1\n",
    "message = str(a)+' is my Favourite Number!'\n",
    "print(message)"
   ]
  },
  {
   "cell_type": "code",
   "execution_count": 3,
   "metadata": {},
   "outputs": [
    {
     "name": "stdout",
     "output_type": "stream",
     "text": [
      "8\n",
      "8\n",
      "8\n",
      "8\n"
     ]
    }
   ],
   "source": [
    "#Addind Comments\n",
    "#Uzaif\n",
    "#Addition\n",
    "print(5 + 3)\n",
    "#Subscribtion\n",
    "print(10 - 2)\n",
    "#Multiply\n",
    "print(4 * 2)\n",
    "#Division\n",
    "print(16 // 2)"
   ]
  },
  {
   "cell_type": "code",
   "execution_count": 4,
   "metadata": {},
   "outputs": [
    {
     "name": "stdout",
     "output_type": "stream",
     "text": [
      "1 is my Favourite Number!\n"
     ]
    }
   ],
   "source": [
    "#Returning my favourite number\n",
    "a = 1\n",
    "message = str(a)+' is my Favourite Number!'\n",
    "print(message)"
   ]
  },
  {
   "cell_type": "code",
   "execution_count": 15,
   "metadata": {},
   "outputs": [],
   "source": [
    "import this"
   ]
  }
 ],
 "metadata": {
  "kernelspec": {
   "display_name": "Python 3",
   "language": "python",
   "name": "python3"
  },
  "language_info": {
   "codemirror_mode": {
    "name": "ipython",
    "version": 3
   },
   "file_extension": ".py",
   "mimetype": "text/x-python",
   "name": "python",
   "nbconvert_exporter": "python",
   "pygments_lexer": "ipython3",
   "version": "3.7.3"
  }
 },
 "nbformat": 4,
 "nbformat_minor": 4
}
