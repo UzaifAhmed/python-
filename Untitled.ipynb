{
 "cells": [
  {
   "cell_type": "code",
   "execution_count": 6,
   "id": "98b4f76f",
   "metadata": {},
   "outputs": [],
   "source": [
    "from selenium import webdriver\n",
    "from selenium .webdriver.common.keys import Keys\n",
    "from selenium .webdriver.common.by import By\n",
    "import time"
   ]
  },
  {
   "cell_type": "code",
   "execution_count": 2,
   "id": "f8eb9494",
   "metadata": {},
   "outputs": [],
   "source": [
    "driver = webdriver.Chrome()\n",
    "driver.get(\"https://www.pakwheels.com/used-cars/karachi/24857\")"
   ]
  },
  {
   "cell_type": "code",
   "execution_count": 1,
   "id": "76cf7474",
   "metadata": {},
   "outputs": [],
   "source": [
    "from selenium import webdriver\n",
    "from selenium.webdriver.common.keys import Keys\n",
    "from selenium.webdriver.common.by import By\n",
    "\n",
    "collection = []\n",
    "driver = webdriver.Chrome()\n",
    "driver.get(\"https://www.pakwheels.com/used-cars/karachi/24857\")\n",
    "# time.sleep(5)\n",
    "# driver.find_element(By.CLASS_NAME, \"align-right secondary slidedown-button\").click()\n",
    "# elem = driver.find_element(By.XPATH, \"//div[@class='well search-list clearfix ad-container page-']\")\n",
    "# print(eleme.text)\n",
    "elem = driver.find_elements(By.XPATH, \"//div[@class='well search-list clearfix ad-container page-']\")\n",
    "for eleme in elem:\n",
    "    collection.append(eleme.text)\n",
    "driver.close()"
   ]
  },
  {
   "cell_type": "code",
   "execution_count": 9,
   "id": "75828d48",
   "metadata": {},
   "outputs": [
    {
     "data": {
      "text/plain": [
       "['4',\n",
       " 'FEATURED',\n",
       " 'Call',\n",
       " 'Toyota Passo 2021 X L Package S for Sale',\n",
       " 'Karachi',\n",
       " '2021 26,000 km Petrol 1000 cc Automatic',\n",
       " 'Updated about 1 hour ago',\n",
       " 'Show Phone No.']"
      ]
     },
     "execution_count": 9,
     "metadata": {},
     "output_type": "execute_result"
    }
   ],
   "source": [
    "collection[0].split('\\n')#[-6]"
   ]
  },
  {
   "cell_type": "code",
   "execution_count": 38,
   "id": "b1911df0",
   "metadata": {},
   "outputs": [
    {
     "name": "stdout",
     "output_type": "stream",
     "text": [
      "Toyota Passo 2021 X L Package S for Sale\n",
      "Toyota Passo 2021 X L Package S for Sale\n",
      "Toyota Prado 2009 TX Limited 2.7 for Sale\n",
      "Toyota Prado 2009 TX Limited 2.7 for Sale\n",
      "Toyota Raize 2020 Z for Sale\n",
      "Toyota Raize 2020 Z for Sale\n",
      "Suzuki Alto 2023 VXL AGS for Sale\n",
      "Suzuki Alto 2023 VXL AGS for Sale\n",
      "Toyota Surf 2017 SSR-G 4.0 for Sale\n",
      "Toyota Surf 2017 SSR-G 4.0 for Sale\n",
      "Toyota C-HR 2019 S-LED for Sale\n",
      "Toyota C-HR 2019 S-LED for Sale\n",
      "Toyota C-HR 2019 G-LED for Sale\n",
      "Toyota C-HR 2019 G-LED for Sale\n",
      "Daihatsu Rocky 2021 G for Sale\n",
      "Daihatsu Rocky 2021 G for Sale\n",
      "Toyota Corolla Axio 2017 Hybrid 1.5 for Sale\n",
      "Toyota Corolla Axio 2017 Hybrid 1.5 for Sale\n",
      "Suzuki Hustler 2021 X for Sale\n",
      "Suzuki Hustler 2021 X for Sale\n",
      "Toyota Corolla 2012 GLi Automatic 1.6 VVTi for Sale\n",
      "Toyota Corolla 2012 GLi Automatic 1.6 VVTi for Sale\n",
      "Mercedes Benz C Class 2010 C200 for Sale\n",
      "Mercedes Benz C Class 2010 C200 for Sale\n",
      "Suzuki Mehran 2018 VXR Euro II for Sale\n",
      "Suzuki Mehran 2018 VXR Euro II for Sale\n",
      "Toyota Corolla 2012 GLi Automatic 1.6 VVTi for Sale\n",
      "Toyota Corolla 2012 GLi Automatic 1.6 VVTi for Sale\n",
      "Suzuki Cultus 2007 VXR for Sale\n",
      "Suzuki Cultus 2007 VXR for Sale\n",
      "Suzuki Wagon R 2019 Stingray Hybrid X for Sale\n",
      "Suzuki Wagon R 2019 Stingray Hybrid X for Sale\n",
      "Toyota Corolla 2021 Altis Grande X CVT-i 1.8 Beige Interior for Sale\n",
      "Toyota Corolla 2021 Altis Grande X CVT-i 1.8 Beige Interior for Sale\n",
      "Daihatsu Taft 2021 for Sale\n",
      "Daihatsu Taft 2021 for Sale\n",
      "Suzuki Mehran 1998 VXR (CNG) for Sale\n",
      "Suzuki Mehran 1998 VXR (CNG) for Sale\n",
      "MG HS 2021 Trophy for Sale\n",
      "MG HS 2021 Trophy for Sale\n",
      "Suzuki Hustler 2015 for Sale\n",
      "Suzuki Hustler 2015 for Sale\n",
      "Suzuki Alto 2019 S Package for Sale\n",
      "Suzuki Alto 2019 S Package for Sale\n",
      "Toyota Yaris 2023 GLI CVT 1.3 for Sale\n",
      "Toyota Yaris 2023 GLI CVT 1.3 for Sale\n",
      "Suzuki Every 11th Generation (JDM) 2020 Join Turbo for Sale\n",
      "Suzuki Every 11th Generation (JDM) 2020 Join Turbo for Sale\n",
      "Suzuki Alto 2021 VXL AGS for Sale\n",
      "Suzuki Alto 2021 VXL AGS for Sale\n",
      "Daihatsu Mira 2021 X SA lll for Sale\n",
      "Daihatsu Mira 2021 X SA lll for Sale\n",
      "Daihatsu Move 2021 X SA 2 for Sale\n",
      "Daihatsu Move 2021 X SA 2 for Sale\n",
      "Honda Civic 2023 RS for Sale\n",
      "Honda Civic 2023 RS for Sale\n",
      "Honda City 5th Generation 2009 1.3 i-VTEC for Sale\n",
      "Honda City 5th Generation 2009 1.3 i-VTEC for Sale\n",
      "Daihatsu Cast 2018 Activa X SA III for Sale\n",
      "Daihatsu Cast 2018 Activa X SA III for Sale\n",
      "Honda City 5th Generation 2018 1.3 i-VTEC for Sale\n",
      "Honda City 5th Generation 2018 1.3 i-VTEC for Sale\n",
      "Suzuki Alto 2009 VXR for Sale\n",
      "Suzuki Alto 2009 VXR for Sale\n",
      "Honda CR-Z Sports Hybrid 2013 for Sale\n",
      "Honda CR-Z Sports Hybrid 2013 for Sale\n"
     ]
    }
   ],
   "source": [
    "collection[1].split('\\n')\n",
    "for i in collection: print(i.split('\\n')[-5]) if 'Call' in i.split('\\n') else print(i.split('\\n')[-5]); print(i.split('\\n')[-5]) if 'FEATURED' in i.split('\\n') else print(i.split('\\n')[-5])"
   ]
  },
  {
   "cell_type": "code",
   "execution_count": 41,
   "id": "e477ff92",
   "metadata": {},
   "outputs": [
    {
     "name": "stdout",
     "output_type": "stream",
     "text": [
      "Toyota Passo 2021 X L Package S for Sale\n",
      "Toyota Prado 2009 TX Limited 2.7 for Sale\n",
      "Toyota Raize 2020 Z for Sale\n",
      "Suzuki Alto 2023 VXL AGS for Sale\n",
      "Toyota Surf 2017 SSR-G 4.0 for Sale\n",
      "Toyota C-HR 2019 S-LED for Sale\n",
      "Toyota C-HR 2019 G-LED for Sale\n",
      "Daihatsu Rocky 2021 G for Sale\n",
      "Toyota Corolla Axio 2017 Hybrid 1.5 for Sale\n",
      "Suzuki Hustler 2021 X for Sale\n",
      "Toyota Corolla 2012 GLi Automatic 1.6 VVTi for Sale\n",
      "Mercedes Benz C Class 2010 C200 for Sale\n",
      "Suzuki Mehran 2018 VXR Euro II for Sale\n",
      "Toyota Corolla 2012 GLi Automatic 1.6 VVTi for Sale\n",
      "Suzuki Cultus 2007 VXR for Sale\n",
      "Suzuki Wagon R 2019 Stingray Hybrid X for Sale\n",
      "Toyota Corolla 2021 Altis Grande X CVT-i 1.8 Beige Interior for Sale\n",
      "Daihatsu Taft 2021 for Sale\n",
      "Suzuki Mehran 1998 VXR (CNG) for Sale\n",
      "MG HS 2021 Trophy for Sale\n",
      "Suzuki Hustler 2015 for Sale\n",
      "Suzuki Alto 2019 S Package for Sale\n",
      "Toyota Yaris 2023 GLI CVT 1.3 for Sale\n",
      "Suzuki Every 11th Generation (JDM) 2020 Join Turbo for Sale\n",
      "Suzuki Alto 2021 VXL AGS for Sale\n",
      "Daihatsu Mira 2021 X SA lll for Sale\n",
      "Daihatsu Move 2021 X SA 2 for Sale\n",
      "Honda Civic 2023 RS for Sale\n",
      "Honda City 5th Generation 2009 1.3 i-VTEC for Sale\n",
      "Daihatsu Cast 2018 Activa X SA III for Sale\n",
      "Honda City 5th Generation 2018 1.3 i-VTEC for Sale\n",
      "Suzuki Alto 2009 VXR for Sale\n",
      "Honda CR-Z Sports Hybrid 2013 for Sale\n",
      "33\n"
     ]
    }
   ],
   "source": [
    "f = 0\n",
    "for i in collection: print(i.split('\\n')[-5]); f+=1;\n",
    "print(f)"
   ]
  },
  {
   "cell_type": "code",
   "execution_count": 26,
   "id": "679d3104",
   "metadata": {},
   "outputs": [
    {
     "name": "stdout",
     "output_type": "stream",
     "text": [
      "True\n"
     ]
    }
   ],
   "source": [
    "print(True) if 'FEATURED' in collection[0].split('\\n') else None"
   ]
  },
  {
   "cell_type": "code",
   "execution_count": 29,
   "id": "45804cdd",
   "metadata": {},
   "outputs": [
    {
     "name": "stdout",
     "output_type": "stream",
     "text": [
      "['4', 'FEATURED', 'Call', 'Toyota Passo 2021 X L Package S for Sale', 'Karachi', '2021 26,000 km Petrol 1000 cc Automatic', 'Updated about 1 hour ago', 'Show Phone No.']\n",
      "['5', 'FEATURED', 'Call', 'Toyota Raize 2020 Z for Sale', 'Karachi', '2020 89,000 km Petrol 1000 cc Automatic', 'Updated about 1 hour ago', 'Show Phone No.']\n"
     ]
    }
   ],
   "source": [
    "for i in collection: print(i.split('\\n')) if 'Call' in i.split('\\n') else None"
   ]
  },
  {
   "cell_type": "code",
   "execution_count": null,
   "id": "ab6dbb4e",
   "metadata": {},
   "outputs": [],
   "source": [
    "for link in image_urls:\n",
    "                # Use the part of the URL after 'https://cdn.leonardo.ai/users/' as the filename\n",
    "                name = link.split('https://cdn.leonardo.ai/users/')[1]\n",
    "                # Replace '/' with '_' to create a valid filename\n",
    "                filename = 'output/' + name.replace('/', '_')\n",
    "                with open(filename, 'wb') as file:\n",
    "                    get_img = requests.get(link, stream=True)\n",
    "                    get_img.raise_for_status()\n",
    "                    for chunk in get_img.iter_content(chunk_size=8192):\n",
    "                        file.write(chunk)"
   ]
  }
 ],
 "metadata": {
  "kernelspec": {
   "display_name": "Python 3 (ipykernel)",
   "language": "python",
   "name": "python3"
  },
  "language_info": {
   "codemirror_mode": {
    "name": "ipython",
    "version": 3
   },
   "file_extension": ".py",
   "mimetype": "text/x-python",
   "name": "python",
   "nbconvert_exporter": "python",
   "pygments_lexer": "ipython3",
   "version": "3.9.12"
  }
 },
 "nbformat": 4,
 "nbformat_minor": 5
}
