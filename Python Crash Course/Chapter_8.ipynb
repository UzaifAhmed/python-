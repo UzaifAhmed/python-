{
 "cells": [
  {
   "cell_type": "markdown",
   "metadata": {},
   "source": [
    "8-1. Message: Write a function called display_message() that prints one sentence telling everyone what you are learning about in this chapter. Call the\n",
    "function, and make sure the message displays correctly"
   ]
  },
  {
   "cell_type": "code",
   "execution_count": 2,
   "metadata": {},
   "outputs": [
    {
     "name": "stdout",
     "output_type": "stream",
     "text": [
      "I am learning Data Science.\n"
     ]
    }
   ],
   "source": [
    "def display_message():\n",
    "    print('I am learning Data Science.')\n",
    "display_message()"
   ]
  },
  {
   "cell_type": "markdown",
   "metadata": {},
   "source": [
    "8-2. Favorite Book: Write a function called favorite_book() that accepts one\n",
    "parameter, title. The function should print a message, such as One of my\n",
    "favorite books is Alice in Wonderland. Call the function, making sure to\n",
    "include a book title as an argument in the function call."
   ]
  },
  {
   "cell_type": "code",
   "execution_count": 3,
   "metadata": {},
   "outputs": [
    {
     "name": "stdout",
     "output_type": "stream",
     "text": [
      "One of my favorite books is Alice In Wonderland.\n"
     ]
    }
   ],
   "source": [
    "def favourite_book(title):\n",
    "    print(f'One of my favorite books is {title.title()}.')\n",
    "\n",
    "favourite_book('Alice in Wonderland')"
   ]
  },
  {
   "cell_type": "markdown",
   "metadata": {},
   "source": [
    "8-3. T-Shirt: Write a function called make_shirt() that accepts a size and the\n",
    "text of a message that should be printed on the shirt. The function should print\n",
    "a sentence summarizing the size of the shirt and the message printed on it.\n",
    "Call the function once using positional arguments to make a shirt. Call the\n",
    "function a second time using keyword arguments."
   ]
  },
  {
   "cell_type": "code",
   "execution_count": 6,
   "metadata": {},
   "outputs": [
    {
     "name": "stdout",
     "output_type": "stream",
     "text": [
      "Print Hopping well for grave! on a XL T-Shirt\n"
     ]
    }
   ],
   "source": [
    "def make_shirt(size='XL',text='Hopping well for grave!'):\n",
    "    print(f'Print {text} on a {size} T-Shirt')\n",
    "make_shirt()"
   ]
  },
  {
   "cell_type": "code",
   "execution_count": 7,
   "metadata": {},
   "outputs": [
    {
     "name": "stdout",
     "output_type": "stream",
     "text": [
      "Print I love Mom on a S T-Shirt\n"
     ]
    }
   ],
   "source": [
    "make_shirt('S','I love Mom')"
   ]
  },
  {
   "cell_type": "markdown",
   "metadata": {},
   "source": [
    "8-4. Large Shirts: Modify the make_shirt() function so that shirts are large\n",
    "by default with a message that reads I love Python. Make a large shirt and a\n",
    "medium shirt with the default message, and a shirt of any size with a different\n",
    "message."
   ]
  },
  {
   "cell_type": "code",
   "execution_count": 1,
   "metadata": {},
   "outputs": [
    {
     "name": "stdout",
     "output_type": "stream",
     "text": [
      "Print I Love Python on a L T-Shirt\n"
     ]
    }
   ],
   "source": [
    "def make_shirt(size='L',text='I Love Python'):\n",
    "    print(f'Print {text} on a {size} T-Shirt')\n",
    "make_shirt()"
   ]
  },
  {
   "cell_type": "code",
   "execution_count": 2,
   "metadata": {},
   "outputs": [
    {
     "name": "stdout",
     "output_type": "stream",
     "text": [
      "Print Buddies on a S T-Shirt\n"
     ]
    }
   ],
   "source": [
    "make_shirt('S','Buddies')"
   ]
  },
  {
   "cell_type": "markdown",
   "metadata": {},
   "source": [
    "8-5. Cities: Write a function called describe_city() that accepts the name of\n",
    "a city and its country. The function should print a simple sentence, such as\n",
    "Reykjavik is in Iceland. Give the parameter for the country a default value.\n",
    "Call your function for three different cities, at least one of which is not in the\n",
    "default country."
   ]
  },
  {
   "cell_type": "code",
   "execution_count": 3,
   "metadata": {},
   "outputs": [
    {
     "name": "stdout",
     "output_type": "stream",
     "text": [
      "Karachi is in Pakistan\n",
      "Hyderabad is in Pakistan\n",
      "Hyderabad is in India\n"
     ]
    }
   ],
   "source": [
    "def describe_city(city,country='Pakistan'):\n",
    "    print(f'{city} is in {country}')\n",
    "describe_city('Karachi')\n",
    "describe_city('Hyderabad')\n",
    "describe_city('Hyderabad','India')"
   ]
  },
  {
   "cell_type": "markdown",
   "metadata": {},
   "source": [
    "8-6. City Names: Write a function called city_country() that takes in the name\n",
    "of a city and its country. The function should return a string formatted like this:\n",
    "\"Santiago, Chile\"\n",
    "Call your function with at least three city-country pairs, and print the value\n",
    "that’s returned."
   ]
  },
  {
   "cell_type": "code",
   "execution_count": 6,
   "metadata": {},
   "outputs": [
    {
     "data": {
      "text/plain": [
       "'New Dehli, India'"
      ]
     },
     "execution_count": 6,
     "metadata": {},
     "output_type": "execute_result"
    }
   ],
   "source": [
    "def city_country(city,country):\n",
    "    return f\"{city.title()}, {country.title()}\"\n",
    "city_country('new dehli','india')"
   ]
  },
  {
   "cell_type": "code",
   "execution_count": 7,
   "metadata": {},
   "outputs": [
    {
     "data": {
      "text/plain": [
       "'Kabul, Afghanistan'"
      ]
     },
     "execution_count": 7,
     "metadata": {},
     "output_type": "execute_result"
    }
   ],
   "source": [
    "city_country('Kabul','afghanistan')"
   ]
  },
  {
   "cell_type": "code",
   "execution_count": 8,
   "metadata": {},
   "outputs": [
    {
     "data": {
      "text/plain": [
       "'Islamabad, Pakistan'"
      ]
     },
     "execution_count": 8,
     "metadata": {},
     "output_type": "execute_result"
    }
   ],
   "source": [
    "city_country('Islamabad','pakistan')"
   ]
  },
  {
   "cell_type": "markdown",
   "metadata": {},
   "source": [
    "8-7. Album: Write a function called make_album() that builds a dictionary\n",
    "describing a music album. The function should take in an artist name and an\n",
    "album title, and it should return a dictionary containing these two pieces of\n",
    "information. Use the function to make three dictionaries representing different\n",
    "albums. Print each return value to show that the dictionaries are storing the\n",
    "album information correctly.\n",
    "Add an optional parameter to make_album() that allows you to store the\n",
    "number of tracks on an album. If the calling line includes a value for the number of tracks, add that value to the album’s dictionary. Make at least one new\n",
    "function call that includes the number of tracks on an album."
   ]
  },
  {
   "cell_type": "code",
   "execution_count": 21,
   "metadata": {},
   "outputs": [
    {
     "name": "stdout",
     "output_type": "stream",
     "text": [
      "{'Artist': 'Atif', 'Title': 'Yaaden', 'Track': 1} {'Artist': 'Ali Azmat', 'Title': 'Tayar Ho'} {'Artist': 'Tahir Shah', 'Title': 'Angel'}\n"
     ]
    }
   ],
   "source": [
    "def make_album(artist,title,track=0):\n",
    "    album = {\n",
    "        'Artist': artist.title(),\n",
    "        'Title' : title.title()\n",
    "    }\n",
    "    if track:\n",
    "        album['Track'] = track\n",
    "    return album\n",
    "\n",
    "Album1 = make_album('Atif','Yaaden',1)\n",
    "Album2 = make_album('Ali Azmat','Tayar ho')\n",
    "Album3 = make_album('Tahir Shah','Angel')\n",
    "print(Album1,Album2,Album3)\n"
   ]
  },
  {
   "cell_type": "markdown",
   "metadata": {},
   "source": [
    "8-8. User Albums: Start with your program from Exercise 8-7. Write a while\n",
    "loop that allows users to enter an album’s artist and title. Once you have that\n",
    "information, call make_album() with the user’s input and print the dictionary\n",
    "that’s created. Be sure to include a quit value in the while loop."
   ]
  },
  {
   "cell_type": "code",
   "execution_count": 29,
   "metadata": {},
   "outputs": [
    {
     "name": "stdout",
     "output_type": "stream",
     "text": [
      "press q to Quit.\n",
      "Atrist name: Atif\n",
      "Album title: Man amadeam\n",
      "{'Artist': 'Atif', 'Title': 'Man Amadeam'}\n",
      "Atrist name: Shan\n",
      "Album title: 4 kadam\n",
      "{'Artist': 'Shan', 'Title': '4 Kadam'}\n",
      "Atrist name: q\n"
     ]
    }
   ],
   "source": [
    "def make_album(artist,title,track=0):\n",
    "    album = {\n",
    "        'Artist': artist.title(),\n",
    "        'Title' : title.title()\n",
    "    }\n",
    "    if track:\n",
    "        album['Track'] = track\n",
    "    return album\n",
    "\n",
    "print('press q to Quit.')\n",
    "\n",
    "while True:\n",
    "    artist = input('Atrist name: ')\n",
    "    if artist == 'q':\n",
    "        break\n",
    "    title = input('Album title: ')\n",
    "    if title == 'q':\n",
    "        break\n",
    "    \n",
    "    album_create = make_album(artist,title)\n",
    "    print(album_create)"
   ]
  },
  {
   "cell_type": "markdown",
   "metadata": {},
   "source": [
    "8-9. Magicians: Make a list of magician’s names. Pass the list to a function\n",
    "called show_magicians(), which prints the name of each magician in the list"
   ]
  },
  {
   "cell_type": "code",
   "execution_count": 11,
   "metadata": {},
   "outputs": [
    {
     "name": "stdout",
     "output_type": "stream",
     "text": [
      "['Rashid', 'Masroor', 'Hanif', 'Jamal', 'Tahir']\n"
     ]
    }
   ],
   "source": [
    "magicians = ['Rashid','Masroor','Hanif','Jamal','Tahir']\n",
    "def show_magicians(magicians):\n",
    "    print(magicians)\n",
    "show_magicians(magicians)"
   ]
  },
  {
   "cell_type": "markdown",
   "metadata": {},
   "source": [
    "8-10. Great Magicians: Start with a copy of your program from Exercise 8-9.\n",
    "Write a function called make_great() that modifies the list of magicians by adding the phrase the Great to each magician’s name. Call show_magicians() to\n",
    "see that the list has actually been modified."
   ]
  },
  {
   "cell_type": "code",
   "execution_count": 12,
   "metadata": {},
   "outputs": [
    {
     "name": "stdout",
     "output_type": "stream",
     "text": [
      "['The Great Rashid', 'The Great Masroor', 'The Great Hanif', 'The Great Jamal', 'The Great Tahir']\n"
     ]
    }
   ],
   "source": [
    "def make_great(magicians):\n",
    "    modified_magicians = [f\"The Great {magician}\" for magician in magicians]\n",
    "    show_magicians(modified_magicians)\n",
    "make_great(magicians)"
   ]
  },
  {
   "cell_type": "markdown",
   "metadata": {},
   "source": [
    "8-11. Unchanged Magicians: Start with your work from Exercise 8-10. Call the\n",
    "function make_great() with a copy of the list of magicians’ names. Because the\n",
    "original list will be unchanged, return the new list and store it in a separate list.\n",
    "Call show_magicians() with each list to show that you have one list of the original names and one list with the Great added to each magician’s name."
   ]
  },
  {
   "cell_type": "code",
   "execution_count": 14,
   "metadata": {},
   "outputs": [
    {
     "name": "stdout",
     "output_type": "stream",
     "text": [
      "['Rashid', 'Masroor', 'Hanif', 'Jamal', 'Tahir']\n",
      "['The Great Rashid', 'The Great Masroor', 'The Great Hanif', 'The Great Jamal', 'The Great Tahir']\n",
      "None\n",
      "None\n"
     ]
    }
   ],
   "source": [
    "lisst1 = show_magicians(magicians)\n",
    "lisst2 = make_great(magicians)\n",
    "\n",
    "print(lisst1)\n",
    "print(lisst2)"
   ]
  },
  {
   "cell_type": "markdown",
   "metadata": {},
   "source": [
    "8-12. Sandwiches: Write a function that accepts a list of items a person wants\n",
    "on a sandwich. The function should have one parameter that collects as many\n",
    "items as the function call provides, and it should print a summary of the sandwich that is being ordered. Call the function three times, using a different number of arguments each time."
   ]
  },
  {
   "cell_type": "code",
   "execution_count": 15,
   "metadata": {},
   "outputs": [
    {
     "name": "stdout",
     "output_type": "stream",
     "text": [
      "You sandwich consist of\n",
      "tomato\n",
      "kabab\n",
      "cucumber\n"
     ]
    }
   ],
   "source": [
    "def sandwich(items):\n",
    "    print('You sandwich consist of')\n",
    "    for i in items:\n",
    "        print(i)\n",
    "sandwich(['tomato','kabab','cucumber'])"
   ]
  }
 ],
 "metadata": {
  "kernelspec": {
   "display_name": "Python 3",
   "language": "python",
   "name": "python3"
  },
  "language_info": {
   "codemirror_mode": {
    "name": "ipython",
    "version": 3
   },
   "file_extension": ".py",
   "mimetype": "text/x-python",
   "name": "python",
   "nbconvert_exporter": "python",
   "pygments_lexer": "ipython3",
   "version": "3.7.3"
  }
 },
 "nbformat": 4,
 "nbformat_minor": 4
}
