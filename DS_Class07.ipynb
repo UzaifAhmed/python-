{
 "cells": [
  {
   "cell_type": "code",
   "execution_count": null,
   "metadata": {},
   "outputs": [],
   "source": [
    "def even_odd():\n",
    "    while (True):\n",
    "        a=int(input ('enter number '))\n",
    "        if a ==' ':\n",
    "            False\n",
    "        elif a%2 == 0:\n",
    "            print(\"even number \")\n",
    "        else:\n",
    "            print(\"odd number \")\n",
    "even_odd()\n"
   ]
  },
  {
   "cell_type": "code",
   "execution_count": null,
   "metadata": {},
   "outputs": [],
   "source": [
    "polling_active = True\n",
    "responses = {}"
   ]
  },
  {
   "cell_type": "code",
   "execution_count": null,
   "metadata": {},
   "outputs": [],
   "source": [
    "while(polling_active):\n",
    "    name = input(\"\\nWhat is your name? \")\n",
    "    response = input(\"Which mountain would you like to climb someday? \")\n",
    "    responses[name] = response\n",
    "    repeat = input(\"Would you like to let another person respond? (yes/ no) \")\n",
    "    if repeat == 'no':\n",
    "        polling_active = False\n",
    "        print(\"\\n--- Poll Results ---\")\n",
    "        for name, response in responses.items():\n",
    "            print(name + \" would like to climb \" + response + \".\")"
   ]
  },
  {
   "cell_type": "code",
   "execution_count": null,
   "metadata": {},
   "outputs": [],
   "source": [
    "#function define\n",
    "#function call\n",
    "\n",
    "def adding():\n",
    "    '''This function take no arguments\n",
    "    it returns the sum of two integers by user\n",
    "    '''\n",
    "    a=int(input())\n",
    "    b=int(input())\n",
    "    return a+b\n",
    "adding()"
   ]
  },
  {
   "cell_type": "code",
   "execution_count": null,
   "metadata": {},
   "outputs": [],
   "source": [
    "help(adding)"
   ]
  },
  {
   "cell_type": "code",
   "execution_count": null,
   "metadata": {},
   "outputs": [],
   "source": [
    "#function define\n",
    "#function call\n",
    "\n",
    "def adding2(a,b):\n",
    "    '''This function takes two arrguments (Paramenterless)\n",
    "    it returns the sum of two integers by user\n",
    "    '''\n",
    "    return a+b\n"
   ]
  },
  {
   "cell_type": "code",
   "execution_count": null,
   "metadata": {},
   "outputs": [],
   "source": [
    "num1=int(input())\n",
    "num2=int(input())\n",
    "adding2(num1,num2) #arrguments"
   ]
  },
  {
   "cell_type": "code",
   "execution_count": null,
   "metadata": {},
   "outputs": [],
   "source": [
    "def sub(c,d):\n",
    "    '''This function takes two arrguments (Paramenter)\n",
    "    it returns the subtraction between two integers by user\n",
    "    '''\n",
    "    return c-d\n",
    "c=int(input())\n",
    "d=int(input())\n",
    "sub(c,d)"
   ]
  },
  {
   "cell_type": "code",
   "execution_count": null,
   "metadata": {},
   "outputs": [],
   "source": [
    "#Positional Arguments\n",
    "def full_name(first_name,middle_name,last_name):\n",
    "    return first_name+\" \"+middle_name+\" \"+last_name\n",
    "full_name('Uzaif','Ahmed','Khatri')"
   ]
  },
  {
   "cell_type": "code",
   "execution_count": null,
   "metadata": {},
   "outputs": [],
   "source": [
    "def data_collection(x,y,z=4): #default parameter\n",
    "    print(x,y,z)"
   ]
  },
  {
   "cell_type": "code",
   "execution_count": null,
   "metadata": {},
   "outputs": [],
   "source": [
    "data_collection(12,z=21,y=23)"
   ]
  },
  {
   "cell_type": "code",
   "execution_count": null,
   "metadata": {},
   "outputs": [],
   "source": [
    "def make_shirt(size,text):\n",
    "    print('Your size is '+size+\" and this message will be printed on your T-Shirt: \"+text)\n",
    "size = input(\"Your Shirt size plz(S/M/L/XL): \")\n",
    "text = input(\"Enter text to be added on your T-Shirt: \")\n",
    "make_shirt(size,text)\n",
    "    "
   ]
  },
  {
   "cell_type": "code",
   "execution_count": null,
   "metadata": {},
   "outputs": [],
   "source": [
    "make_shirt(text='Squard',size='M')"
   ]
  },
  {
   "cell_type": "code",
   "execution_count": null,
   "metadata": {},
   "outputs": [],
   "source": [
    "def make_shirt(size='L',text='I love Python'):\n",
    "    print('Your size is '+size+\" and this message will be printed on your T-Shirt: \"+text)\n",
    "size = input(\"Your Shirt size plz(S/M/L/XL): \")\n",
    "text = input(\"Enter text to be added on your T-Shirt: \")\n",
    "make_shirt(size,text)"
   ]
  },
  {
   "cell_type": "code",
   "execution_count": null,
   "metadata": {},
   "outputs": [],
   "source": [
    "def build_person(first_name, last_name, age=''):\n",
    "    \"\"\"Return a dictionary of information about a person.\"\"\"\n",
    "    person = {'first': first_name, 'last': last_name}\n",
    "    if age:\n",
    "        person['age'] = age\n",
    "    return person\n",
    "\n",
    "musician = build_person('jimi', 'hendrix')\n",
    "print(musician)"
   ]
  },
  {
   "cell_type": "code",
   "execution_count": null,
   "metadata": {},
   "outputs": [],
   "source": [
    "'11' and 1"
   ]
  },
  {
   "cell_type": "code",
   "execution_count": 2,
   "metadata": {},
   "outputs": [],
   "source": [
    "def max_finder():\n",
    "    return max([int(input('Enter number: ')) for i in range(5)])"
   ]
  },
  {
   "cell_type": "code",
   "execution_count": 3,
   "metadata": {},
   "outputs": [
    {
     "name": "stdout",
     "output_type": "stream",
     "text": [
      "Enter number: 234\n",
      "Enter number: 234\n",
      "Enter number: 4574\n",
      "Enter number: 3254\n",
      "Enter number: 34635\n"
     ]
    },
    {
     "data": {
      "text/plain": [
       "34635"
      ]
     },
     "execution_count": 3,
     "metadata": {},
     "output_type": "execute_result"
    }
   ],
   "source": [
    "max_finder()"
   ]
  },
  {
   "cell_type": "code",
   "execution_count": null,
   "metadata": {},
   "outputs": [],
   "source": []
  }
 ],
 "metadata": {
  "kernelspec": {
   "display_name": "Python 3",
   "language": "python",
   "name": "python3"
  },
  "language_info": {
   "codemirror_mode": {
    "name": "ipython",
    "version": 3
   },
   "file_extension": ".py",
   "mimetype": "text/x-python",
   "name": "python",
   "nbconvert_exporter": "python",
   "pygments_lexer": "ipython3",
   "version": "3.7.6"
  }
 },
 "nbformat": 4,
 "nbformat_minor": 4
}
