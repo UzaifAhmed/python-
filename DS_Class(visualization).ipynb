{
 "cells": [
  {
   "cell_type": "code",
   "execution_count": 1,
   "metadata": {},
   "outputs": [],
   "source": [
    "positive = [1,1,1,1,2,2,2,2,2,2,3,3,3,3,4,4,5,5,7]\n",
    "normal = [1,1,2,2,3,3,3,4,4,4,4,4,5,5,5,6,6,7,7]\n",
    "negetive = [1,2,3,3,4,4,4,5,5,5,5,6,6,6,6,6,6,7,7,7]"
   ]
  },
  {
   "cell_type": "code",
   "execution_count": 11,
   "metadata": {},
   "outputs": [],
   "source": [
    "dataset1 = {'0 to 1':positive.count(1),'1 to 2':positive.count(2),'2 to 3':positive.count(3),\n",
    "            '3 to 4':positive.count(4),'4 to 5':positive.count(5),'5 to 6':positive.count(6),\n",
    "            '6 to 7':positive.count(7),}"
   ]
  },
  {
   "cell_type": "code",
   "execution_count": 5,
   "metadata": {},
   "outputs": [
    {
     "data": {
      "text/plain": [
       "1"
      ]
     },
     "execution_count": 5,
     "metadata": {},
     "output_type": "execute_result"
    }
   ],
   "source": [
    "c = [1,2,3]\n",
    "c.count(0<1)"
   ]
  },
  {
   "cell_type": "code",
   "execution_count": 12,
   "metadata": {},
   "outputs": [
    {
     "data": {
      "text/plain": [
       "{'0 to 1': 4,\n",
       " '1 to 2': 6,\n",
       " '2 to 3': 4,\n",
       " '3 to 4': 2,\n",
       " '4 to 5': 2,\n",
       " '5 to 6': 0,\n",
       " '6 to 7': 1}"
      ]
     },
     "execution_count": 12,
     "metadata": {},
     "output_type": "execute_result"
    }
   ],
   "source": [
    "dataset1"
   ]
  },
  {
   "cell_type": "code",
   "execution_count": 13,
   "metadata": {},
   "outputs": [],
   "source": [
    "dataset2 = {'0 to 1':normal.count(1),'1 to 2':normal.count(2),'2 to 3':normal.count(3),\n",
    "            '3 to 4':normal.count(4),'4 to 5':normal.count(5),'5 to 6':normal.count(6),\n",
    "            '6 to 7':normal.count(7),}"
   ]
  },
  {
   "cell_type": "code",
   "execution_count": 14,
   "metadata": {},
   "outputs": [
    {
     "data": {
      "text/plain": [
       "{'0 to 1': 2,\n",
       " '1 to 2': 2,\n",
       " '2 to 3': 3,\n",
       " '3 to 4': 5,\n",
       " '4 to 5': 3,\n",
       " '5 to 6': 2,\n",
       " '6 to 7': 2}"
      ]
     },
     "execution_count": 14,
     "metadata": {},
     "output_type": "execute_result"
    }
   ],
   "source": [
    "dataset2"
   ]
  },
  {
   "cell_type": "code",
   "execution_count": 15,
   "metadata": {},
   "outputs": [],
   "source": [
    "dataset3 = {'0 to 1':negetive.count(1),'1 to 2':negetive.count(2),'2 to 3':negetive.count(3),\n",
    "            '3 to 4':negetive.count(4),'4 to 5':negetive.count(5),'5 to 6':negetive.count(6),\n",
    "            '6 to 7':negetive.count(7),}"
   ]
  },
  {
   "cell_type": "code",
   "execution_count": 16,
   "metadata": {},
   "outputs": [
    {
     "data": {
      "text/plain": [
       "{'0 to 1': 1,\n",
       " '1 to 2': 1,\n",
       " '2 to 3': 2,\n",
       " '3 to 4': 3,\n",
       " '4 to 5': 4,\n",
       " '5 to 6': 6,\n",
       " '6 to 7': 3}"
      ]
     },
     "execution_count": 16,
     "metadata": {},
     "output_type": "execute_result"
    }
   ],
   "source": [
    "dataset3"
   ]
  },
  {
   "cell_type": "code",
   "execution_count": 20,
   "metadata": {},
   "outputs": [],
   "source": [
    "import matplotlib.pyplot as plt\n",
    "import pandas as pd"
   ]
  },
  {
   "cell_type": "code",
   "execution_count": 27,
   "metadata": {},
   "outputs": [],
   "source": [
    "dataframe1 = pd.DataFrame(dataset1.values())\n",
    "dataframe2 = pd.DataFrame(dataset2.values())\n",
    "dataframe3 = pd.DataFrame(dataset3.values())"
   ]
  },
  {
   "cell_type": "code",
   "execution_count": 30,
   "metadata": {},
   "outputs": [
    {
     "data": {
      "image/png": "[encoded data removed]",
      "text/plain": [
       "<Figure size 432x288 with 1 Axes>"
      ]
     },
     "metadata": {
      "needs_background": "light"
     },
     "output_type": "display_data"
    }
   ],
   "source": [
    "dataframe1.plot(kind='bar')\n",
    "plt.show()"
   ]
  },
  {
   "cell_type": "code",
   "execution_count": 31,
   "metadata": {},
   "outputs": [
    {
     "data": {
      "image/png": "[encoded data removed]",
      "text/plain": [
       "<Figure size 432x288 with 1 Axes>"
      ]
     },
     "metadata": {
      "needs_background": "light"
     },
     "output_type": "display_data"
    }
   ],
   "source": [
    "dataframe2.plot(kind='bar')\n",
    "plt.show()"
   ]
  },
  {
   "cell_type": "code",
   "execution_count": 33,
   "metadata": {},
   "outputs": [
    {
     "data": {
      "image/png": "[encoded data removed]",
      "text/plain": [
       "<Figure size 432x288 with 1 Axes>"
      ]
     },
     "metadata": {
      "needs_background": "light"
     },
     "output_type": "display_data"
    }
   ],
   "source": [
    "dataframe3.plot(kind='bar')\n",
    "plt.grid()"
   ]
  },
  {
   "cell_type": "code",
   "execution_count": 46,
   "metadata": {},
   "outputs": [
    {
     "data": {
      "image/png": "[encoded data removed]",
      "text/plain": [
       "<Figure size 432x288 with 1 Axes>"
      ]
     },
     "metadata": {
      "needs_background": "light"
     },
     "output_type": "display_data"
    }
   ],
   "source": [
    "#Taking frequency with the help of groupby\n",
    "p = pd.DataFrame(positive)\n",
    "freq = p.groupby(0).size()\n",
    "freq.plot(kind='bar')\n",
    "plt.show()"
   ]
  },
  {
   "cell_type": "code",
   "execution_count": 47,
   "metadata": {},
   "outputs": [
    {
     "data": {
      "image/png": "[encoded data removed]",
      "text/plain": [
       "<Figure size 432x288 with 1 Axes>"
      ]
     },
     "metadata": {
      "needs_background": "light"
     },
     "output_type": "display_data"
    }
   ],
   "source": [
    "#Taking frequency with the help of groupby\n",
    "n = pd.DataFrame(negetive)\n",
    "freq = n.groupby(0).size()\n",
    "freq.plot(kind='bar')\n",
    "plt.show()"
   ]
  },
  {
   "cell_type": "code",
   "execution_count": 48,
   "metadata": {},
   "outputs": [
    {
     "data": {
      "image/png": "[encoded data removed]",
      "text/plain": [
       "<Figure size 432x288 with 1 Axes>"
      ]
     },
     "metadata": {
      "needs_background": "light"
     },
     "output_type": "display_data"
    }
   ],
   "source": [
    "#Taking frequency with the help of groupby\n",
    "nor = pd.DataFrame(normal)\n",
    "freq = nor.groupby(0).size()\n",
    "freq.plot(kind='bar')\n",
    "plt.show()"
   ]
  }
 ],
 "metadata": {
  "kernelspec": {
   "display_name": "Python 3",
   "language": "python",
   "name": "python3"
  },
  "language_info": {
   "codemirror_mode": {
    "name": "ipython",
    "version": 3
   },
   "file_extension": ".py",
   "mimetype": "text/x-python",
   "name": "python",
   "nbconvert_exporter": "python",
   "pygments_lexer": "ipython3",
   "version": "3.7.6"
  }
 },
 "nbformat": 4,
 "nbformat_minor": 4
}
