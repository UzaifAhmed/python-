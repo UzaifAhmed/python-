{
 "cells": [
  {
   "cell_type": "code",
   "execution_count": 1,
   "metadata": {},
   "outputs": [
    {
     "name": "stdout",
     "output_type": "stream",
     "text": [
      "Salman\n",
      "Affan\n",
      "Haseeb\n",
      "Talha\n",
      "Wajid\n",
      "Subhan\n",
      "Romaan\n"
     ]
    }
   ],
   "source": [
    "list = ['Salman','Affan','Haseeb','Talha','Wajid','Subhan','Romaan']\n",
    "print(list[0])\n",
    "print(list[1])\n",
    "print(list[2])\n",
    "print(list[3])\n",
    "print(list[4])\n",
    "print(list[5])\n",
    "print(list[6])"
   ]
  },
  {
   "cell_type": "code",
   "execution_count": 2,
   "metadata": {},
   "outputs": [
    {
     "name": "stdout",
     "output_type": "stream",
     "text": [
      "Have a nice day Salman\n",
      "Have a nice day Affan\n",
      "Have a nice day Haseeb\n",
      "Have a nice day Talha\n",
      "Have a nice day Wajid\n",
      "Have a nice day Subhan\n",
      "Have a nice day Romaan\n"
     ]
    }
   ],
   "source": [
    "message = 'Have a nice day '\n",
    "for i in range(len(list)):\n",
    "    print(message+list[i])"
   ]
  },
  {
   "cell_type": "code",
   "execution_count": 3,
   "metadata": {},
   "outputs": [
    {
     "name": "stdout",
     "output_type": "stream",
     "text": [
      "I would like to own a Honda 125\n",
      "I would like to own a Civic\n",
      "I would like to own a Diahatsu Cast\n",
      "I would like to own a Tesla Car\n"
     ]
    }
   ],
   "source": [
    "wishes = ['Honda 125','Civic','Diahatsu Cast','Tesla Car']\n",
    "message = 'I would like to own a '\n",
    "for i in range(len(wishes)):\n",
    "    print(message+wishes[i])"
   ]
  },
  {
   "cell_type": "code",
   "execution_count": 4,
   "metadata": {},
   "outputs": [
    {
     "name": "stdout",
     "output_type": "stream",
     "text": [
      "Dear friend Salman, you are invited for the Dinner Tonight.\n",
      "Dear friend Affan, you are invited for the Dinner Tonight.\n",
      "Dear friend Haseeb, you are invited for the Dinner Tonight.\n",
      "Dear friend Talha, you are invited for the Dinner Tonight.\n",
      "Dear friend Wajid, you are invited for the Dinner Tonight.\n",
      "Dear friend Subhan, you are invited for the Dinner Tonight.\n",
      "Dear friend Romaan, you are invited for the Dinner Tonight.\n"
     ]
    }
   ],
   "source": [
    "for i in range(len(list)):\n",
    "    message = 'Dear friend {}, you are invited for the Dinner Tonight.'.format(list[i])\n",
    "    print(message)"
   ]
  },
  {
   "cell_type": "code",
   "execution_count": 5,
   "metadata": {},
   "outputs": [
    {
     "name": "stdout",
     "output_type": "stream",
     "text": [
      "Dear friend Salman, you are invited for the Dinner Tonight.\n",
      "Dear friend Affan, you are invited for the Dinner Tonight.\n",
      "Dear friend Haseeb, you are invited for the Dinner Tonight.\n",
      "Dear friend Talha, you are invited for the Dinner Tonight.\n",
      "Dear friend Wajid, you are invited for the Dinner Tonight.\n",
      "Dear friend Subhan, you are invited for the Dinner Tonight.\n",
      "Dear friend Romaan, you are invited for the Dinner Tonight.\n",
      "Due to some reason Subhan will not join us\n",
      "I asked Ghazi, he is joining us too\n"
     ]
    }
   ],
   "source": [
    "for i in range(len(list)):\n",
    "    message = 'Dear friend {}, you are invited for the Dinner Tonight.'.format(list[i])\n",
    "    print(message)\n",
    "print('Due to some reason {} will not join us'.format(list[5]))\n",
    "list.remove('Subhan')\n",
    "list.append('Ghazi')\n",
    "print('I asked {}, he is joining us too'.format(list[-1]))"
   ]
  },
  {
   "cell_type": "code",
   "execution_count": 6,
   "metadata": {},
   "outputs": [
    {
     "name": "stdout",
     "output_type": "stream",
     "text": [
      "I found a bigger dinner table, inviting 3 more guests\n",
      "['Nabeel', 'Salman', 'Affan', 'Haseeb', 'Talha', 'Wajid', 'Romaan', 'Ghazi']\n"
     ]
    }
   ],
   "source": [
    "print('I found a bigger dinner table, inviting 3 more guests')\n",
    "list.insert(0,'Nabeel')\n",
    "print(list)"
   ]
  },
  {
   "cell_type": "code",
   "execution_count": 7,
   "metadata": {},
   "outputs": [
    {
     "name": "stdout",
     "output_type": "stream",
     "text": [
      "['Nabeel', 'Salman', 'Affan', 'Haseeb', 'Umer', 'Talha', 'Wajid', 'Romaan', 'Ghazi']\n"
     ]
    }
   ],
   "source": [
    "list.insert(4,'Umer')\n",
    "print(list)"
   ]
  },
  {
   "cell_type": "code",
   "execution_count": 8,
   "metadata": {},
   "outputs": [
    {
     "name": "stdout",
     "output_type": "stream",
     "text": [
      "['Nabeel', 'Salman', 'Affan', 'Haseeb', 'Umer', 'Talha', 'Wajid', 'Romaan', 'Ghazi', 'Furqan']\n"
     ]
    }
   ],
   "source": [
    "list.append('Furqan')\n",
    "print(list)"
   ]
  },
  {
   "cell_type": "code",
   "execution_count": 9,
   "metadata": {},
   "outputs": [
    {
     "name": "stdout",
     "output_type": "stream",
     "text": [
      "Dear friend Nabeel, you are invited for the Dinner Tonight.\n",
      "Dear friend Salman, you are invited for the Dinner Tonight.\n",
      "Dear friend Affan, you are invited for the Dinner Tonight.\n",
      "Dear friend Haseeb, you are invited for the Dinner Tonight.\n",
      "Dear friend Umer, you are invited for the Dinner Tonight.\n",
      "Dear friend Talha, you are invited for the Dinner Tonight.\n",
      "Dear friend Wajid, you are invited for the Dinner Tonight.\n",
      "Dear friend Romaan, you are invited for the Dinner Tonight.\n",
      "Dear friend Ghazi, you are invited for the Dinner Tonight.\n",
      "Dear friend Furqan, you are invited for the Dinner Tonight.\n"
     ]
    }
   ],
   "source": [
    "for i in range(len(list)):\n",
    "    print('Dear friend {}, you are invited for the Dinner Tonight.'.format(list[i]))"
   ]
  },
  {
   "cell_type": "code",
   "execution_count": 10,
   "metadata": {},
   "outputs": [
    {
     "name": "stdout",
     "output_type": "stream",
     "text": [
      "['Pakistan', 'Germany', 'Turkey', 'Saudi Arabia', 'Australia']\n"
     ]
    }
   ],
   "source": [
    "places = ['Pakistan','Germany','Turkey','Saudi Arabia','Australia']\n",
    "print(places)"
   ]
  },
  {
   "cell_type": "code",
   "execution_count": 11,
   "metadata": {},
   "outputs": [
    {
     "name": "stdout",
     "output_type": "stream",
     "text": [
      "['Australia', 'Germany', 'Pakistan', 'Saudi Arabia', 'Turkey']\n"
     ]
    }
   ],
   "source": [
    "sort = sorted(places)\n",
    "print(sort)"
   ]
  },
  {
   "cell_type": "code",
   "execution_count": 12,
   "metadata": {},
   "outputs": [
    {
     "data": {
      "text/plain": [
       "['Pakistan', 'Germany', 'Turkey', 'Saudi Arabia', 'Australia']"
      ]
     },
     "execution_count": 12,
     "metadata": {},
     "output_type": "execute_result"
    }
   ],
   "source": [
    "places"
   ]
  },
  {
   "cell_type": "code",
   "execution_count": 13,
   "metadata": {},
   "outputs": [
    {
     "name": "stdout",
     "output_type": "stream",
     "text": [
      "['Turkey', 'Saudi Arabia', 'Pakistan', 'Germany', 'Australia']\n"
     ]
    }
   ],
   "source": [
    "rev = sorted(places,reverse=True)\n",
    "print(rev)"
   ]
  },
  {
   "cell_type": "code",
   "execution_count": 14,
   "metadata": {},
   "outputs": [
    {
     "data": {
      "text/plain": [
       "['Pakistan', 'Germany', 'Turkey', 'Saudi Arabia', 'Australia']"
      ]
     },
     "execution_count": 14,
     "metadata": {},
     "output_type": "execute_result"
    }
   ],
   "source": [
    "places"
   ]
  },
  {
   "cell_type": "code",
   "execution_count": 18,
   "metadata": {},
   "outputs": [
    {
     "name": "stdout",
     "output_type": "stream",
     "text": [
      "['Australia', 'Saudi Arabia', 'Turkey', 'Germany', 'Pakistan']\n"
     ]
    }
   ],
   "source": [
    "places.reverse()\n",
    "print(places)"
   ]
  },
  {
   "cell_type": "code",
   "execution_count": 19,
   "metadata": {},
   "outputs": [
    {
     "name": "stdout",
     "output_type": "stream",
     "text": [
      "['Pakistan', 'Germany', 'Turkey', 'Saudi Arabia', 'Australia']\n"
     ]
    }
   ],
   "source": [
    "places.reverse()\n",
    "print(places)"
   ]
  },
  {
   "cell_type": "code",
   "execution_count": 20,
   "metadata": {},
   "outputs": [
    {
     "name": "stdout",
     "output_type": "stream",
     "text": [
      "['Australia', 'Germany', 'Pakistan', 'Saudi Arabia', 'Turkey']\n"
     ]
    }
   ],
   "source": [
    "a = []\n",
    "a = sorted(places.copy())\n",
    "print(a)"
   ]
  },
  {
   "cell_type": "code",
   "execution_count": 22,
   "metadata": {},
   "outputs": [
    {
     "name": "stdout",
     "output_type": "stream",
     "text": [
      "['Turkey', 'Saudi Arabia', 'Pakistan', 'Germany', 'Australia']\n"
     ]
    }
   ],
   "source": [
    "a.clear()\n",
    "a = sorted(places.copy(),reverse=True)\n",
    "print(a)"
   ]
  },
  {
   "cell_type": "code",
   "execution_count": 25,
   "metadata": {},
   "outputs": [
    {
     "name": "stdout",
     "output_type": "stream",
     "text": [
      "I had invited 10 people.\n"
     ]
    }
   ],
   "source": [
    "count_guests = len(list)\n",
    "print(f'I had invited {count_guests} people.')"
   ]
  },
  {
   "cell_type": "markdown",
   "metadata": {},
   "source": [
    "3-10. Every Function: Think of something you could store in a list. For example,\n",
    "you could make a list of mountains, rivers, countries, cities, languages, or anything else you’d like. Write a program that creates a list containing these items\n",
    "and then uses each function introduced in this chapter at least once."
   ]
  },
  {
   "cell_type": "code",
   "execution_count": 45,
   "metadata": {},
   "outputs": [
    {
     "name": "stdout",
     "output_type": "stream",
     "text": [
      "6\n",
      "['Diahatsu Cast', 'IT', 'Norway', 'Salman', 'Saylani', 'Switzerland']\n",
      "1\n",
      "None\n",
      "['Norway', 'Switzerland', 'Saylani', 'Diahatsu Cast', 'Salman', 'IT', 'Islam']\n",
      "1\n",
      "None\n",
      "['Rain', 'Norway', 'Switzerland', 'Saylani', 'Diahatsu Cast', 'Salman', 'IT', 'Islam']\n",
      "None\n",
      "['Islam', 'IT', 'Salman', 'Diahatsu Cast', 'Saylani', 'Switzerland', 'Norway', 'Rain']\n",
      "Rain\n"
     ]
    }
   ],
   "source": [
    "like = ['Norway','Switzerland','Saylani','Diahatsu Cast','Salman','IT']\n",
    "print((len(like)))\n",
    "print(sorted(like))\n",
    "print(like.count('Saylani'))\n",
    "print(like.append('Islam'))\n",
    "print(like)\n",
    "print(like.index('Switzerland'))\n",
    "print(like.insert(0,'Rain'))\n",
    "print(like)\n",
    "print(like.reverse())\n",
    "print(like)\n",
    "print(like.pop())"
   ]
  },
  {
   "cell_type": "markdown",
   "metadata": {},
   "source": [
    "3-11. Intentional Error: If you haven’t received an index error in one of your\n",
    "programs yet, try to make one happen. Change an index in one of your programs to produce an index error. Make sure you correct the error before closing the program."
   ]
  },
  {
   "cell_type": "code",
   "execution_count": 47,
   "metadata": {},
   "outputs": [
    {
     "ename": "IndexError",
     "evalue": "list index out of range",
     "output_type": "error",
     "traceback": [
      "\u001b[1;31m---------------------------------------------------------------------------\u001b[0m",
      "\u001b[1;31mIndexError\u001b[0m                                Traceback (most recent call last)",
      "\u001b[1;32m<ipython-input-47-713f559b1ffd>\u001b[0m in \u001b[0;36m<module>\u001b[1;34m\u001b[0m\n\u001b[1;32m----> 1\u001b[1;33m \u001b[0mprint\u001b[0m\u001b[1;33m(\u001b[0m\u001b[0mlike\u001b[0m\u001b[1;33m[\u001b[0m\u001b[1;36m7\u001b[0m\u001b[1;33m]\u001b[0m\u001b[1;33m)\u001b[0m\u001b[1;33m\u001b[0m\u001b[1;33m\u001b[0m\u001b[0m\n\u001b[0m",
      "\u001b[1;31mIndexError\u001b[0m: list index out of range"
     ]
    }
   ],
   "source": [
    "print(like[7])"
   ]
  },
  {
   "cell_type": "code",
   "execution_count": 49,
   "metadata": {},
   "outputs": [
    {
     "name": "stdout",
     "output_type": "stream",
     "text": [
      "Stars\n"
     ]
    }
   ],
   "source": [
    "like.append('Stars')\n",
    "print(like[7])"
   ]
  },
  {
   "cell_type": "code",
   "execution_count": null,
   "metadata": {},
   "outputs": [],
   "source": []
  }
 ],
 "metadata": {
  "kernelspec": {
   "display_name": "Python 3",
   "language": "python",
   "name": "python3"
  },
  "language_info": {
   "codemirror_mode": {
    "name": "ipython",
    "version": 3
   },
   "file_extension": ".py",
   "mimetype": "text/x-python",
   "name": "python",
   "nbconvert_exporter": "python",
   "pygments_lexer": "ipython3",
   "version": "3.7.3"
  }
 },
 "nbformat": 4,
 "nbformat_minor": 4
}
